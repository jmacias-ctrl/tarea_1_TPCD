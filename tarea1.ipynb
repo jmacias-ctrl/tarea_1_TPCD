{
 "cells": [
  {
   "cell_type": "markdown",
   "metadata": {},
   "source": [
    "# Tarea 1 - Taller de Python para Ciencia de Datos "
   ]
  },
  {
   "cell_type": "markdown",
   "metadata": {},
   "source": [
    "**Integrantes: Jose Macías, Matias Madariaga, Rayen Nahuelhual**\n",
    "\n",
    "Para la ejecución de este codigo, no se necesita ningúna libreria adicional que se debe descargar e instalar, este codigo solo utiliza las librerias que ya vienen incluidos en Python.\n",
    "Se requiere Python 3 para la ejecución del codigo.\n",
    "Cabe indicar que para la ejecución de las funcionas 2 al 4, se requiere ejecutar primero la funcion 1. Escoger un Archivo de Texto y escoger un archivo de texto que estan en la carpeta Input, esta funcion le indicara que archivos hay en la carpeta y podra seleccionar mediante comando.\n",
    "\n",
    "___"
   ]
  },
  {
   "cell_type": "markdown",
   "metadata": {},
   "source": [
    "### Tabla de Contenidos\n",
    "1. [Escoger un Archivo de Texto](###1.-Escoger-un-archivo-de-texto)\n",
    "2. [Estadísticas del Texto](#2.-Estadisticas-del-Texto)\n",
    "3. [Buscar en el Texto](#3.-Buscar-en-el-Texto)\n",
    "4. [Reemplazar en el Texto](#4.-Reemplazar-en-el-Texto)"
   ]
  },
  {
   "cell_type": "markdown",
   "metadata": {},
   "source": [
    "### 1. Escoger un archivo de texto\n",
    "(Para el funcionamiento del resto de las funciones, se requiere ejecutar esta sección del código)\n",
    "Importamos la librería os y utilizamos la función os.listdir para obtener una lista de nombres de archivos que están almacenados en la carpeta \"io\", esta lista es imprimida al usuario con cada nombre de archivo asignado a un numero, el usuario podrá escoger el archivo que desee introduciendo el numero asociado al archivo.\n",
    "Luego abrimos el archivo que escogió el usuario utilizando el numero que introduzco, recuperando el nombre en la lista de archivos con indice del numero, luego se procede a leer el contenido del archivo."
   ]
  },
  {
   "cell_type": "code",
   "execution_count": 58,
   "metadata": {},
   "outputs": [
    {
     "name": "stdout",
     "output_type": "stream",
     "text": [
      "Seleccione el archivo de texto que desea trabajar\n",
      "1.- El_Arbol_De_La_Colina.txt\n",
      "2.- El_Caos_Reptante.txt\n",
      "3.- En_El_Mar_Remoto.txt\n",
      "4.- Lazarillo_de_Tormes.txt\n",
      "5.- Para_Leer_Al_Atardecer.txt\n",
      "6.- Una_corta_historia_del_eBook.txt\n",
      "Texto seleccionado: El_Arbol_De_La_Colina.txt\n"
     ]
    }
   ],
   "source": [
    "import os\n",
    "\n",
    "#Obtenemos la lista de archivos de texto que están almacenados en la carpeta \"io\"\n",
    "filename_list = os.listdir('input')\n",
    "\n",
    "print('Seleccione el archivo de texto que desea trabajar')\n",
    "for i in range(1,len(filename_list)+1):\n",
    "    print(str(i)+\".- \"+filename_list[i-1])\n",
    "index_filename = (int(input())%len(filename_list))-1\n",
    "\n",
    "file_path = \"input/\"+filename_list[index_filename]\n",
    "\n",
    "print(\"Texto seleccionado: \"+filename_list[index_filename])\n",
    "\n",
    "#Se abre el archivo y se lee el contenido en ella y se almacena en la variable \"content\"\n",
    "with open(file_path, \"r\", encoding=\"UTF-8\") as file:\n",
    "    content = file.read()"
   ]
  },
  {
   "cell_type": "markdown",
   "metadata": {},
   "source": [
    "## 2. Estadísticas del texto\n",
    "Esta entrega los siguientes datos:\n",
    "- La cantidad de párrafos en el texto\n",
    "- La cantidad de palabras y palabras únicas en el texto\n",
    "- La cantidad de caracteres con y sin espacio en el texto\n",
    "\n",
    "Para esto, utilizamos 4 variables\n",
    "\n",
    "1. content que es el contenido del texto recuperado del archivo escogido del usuario, este ya se encuentra declarado en la sección \"Escoger un archivo de texto\", como es el texto completo en un string, va ser utilizado para el calculo de caracteres con y sin espacio.\n",
    "2. text es la variable que se almacena la division del contenido del texto por lineas, almacenándolos en una lista, este va ser utilizado para saber cuanta cantidad de párrafos hay en el texto\n",
    "3. text_split es la variable que se almacena la division dele contenido del texto por palabras, almacenándolos en una lista, este va ser utilizado para saber la cantidad de palabras que hay en el texto\n",
    "4. set_words es un set en que convierte la lista text_split que contiene las palabras del texto en un set, esto hace que solo se almacenen palabras que no se repiten en este set."
   ]
  },
  {
   "cell_type": "code",
   "execution_count": 59,
   "metadata": {},
   "outputs": [
    {
     "name": "stdout",
     "output_type": "stream",
     "text": [
      "Estadísticas del Texto El_Arbol_De_La_Colina.txt:\n",
      "Total de Párrafos: 11\n",
      "Total de Palabras: 1486\n",
      "Total de Palabras Únicas: 762\n",
      "Total de Caracteres: 9010\n",
      "Total de Caracteres (Sin Espacio): 7528\n"
     ]
    }
   ],
   "source": [
    "text = [x for x in content.splitlines() if x]\n",
    "text_split = content.split()\n",
    "set_words = set(text_split)\n",
    "\n",
    "print(\"Estadísticas del Texto \"+filename_list[index_filename]+\":\")\n",
    "print(\"Total de Párrafos: \"+str(len(text))) #len(text) nos entrega la cantidad de párrafos, se utilizo splitline() en content, esto hace que el texto del archivo se divida por lineas en una lista, cada indice de la lista es un párrafo.\n",
    "print(\"Total de Palabras: \"+str(len(text_split))) #len(text_split) nos entrega la cantidad de palabras, se utilizo split() en content, esto hace que el texto del archivo se divida por palabras en una lista, cada indice es una palabra.\n",
    "print(\"Total de Palabras Únicas: \"+str(len(set_words))) #len(set_words) nos entrega la cantidad de palabras únicas, como tenemos las palabras del texto almacenadas en una lista llamada text_split, podemos convertir la lista en un set, esto hace que solo se almacenen palabras que no estén repetidas de la lista\n",
    "print(\"Total de Caracteres: \"+str(len(content)-content.count('\\n'))) #len(content) nos entrega la cantidad de caracteres que hay en el texto (contando los espacios), como los saltos de lineas son considerados como caracteres, le restamos a lo anterior la cantidad de veces que se tiene \\n en el texto que es un salto de linea.\n",
    "print(\"Total de Caracteres (Sin Espacio): \"+str(sum(map(len,content.split())))) #se utiliza la funcion map, donde divide el contenido del texto por palabras y obtiene el tamaño de esta palabra y lo almacena en una lista, luego se realiza la suma de todos los tamaños obtenidos"
   ]
  },
  {
   "cell_type": "markdown",
   "metadata": {},
   "source": [
    "## 3. Buscar en el Texto"
   ]
  },
  {
   "cell_type": "markdown",
   "metadata": {},
   "source": [
    "#### 3.1 Buscar una palabra completa con o sin distinción de mayúsculas y minúsculas indicando cuantas veces aparece"
   ]
  },
  {
   "cell_type": "markdown",
   "metadata": {},
   "source": [
    "Esta función servirá para buscar una palabra completa contenidos dentro de las palabras presentes en el archivo de texto y se mostrará un contador indicando cuantas veces aparece dicha palabra en el documento. Esta función tendrá 2 casos, uno en el que se tomará en cuenta las mayúsculas y minúsculas y otro en el que no se tomarán en cuenta.\n",
    "\n",
    "Para esto se utilizarán las siguientes variables generales:\n",
    "- palabraBuscar: Variable input utilizada para determinar la palabra que se desea buscar en el texto.\n",
    "- cantidadPalabrasSinDistincion: Variable utilizada para almacenar la cantidad de veces que una palabra se encuentra presente en el texto sin distinción de mayúsculas y minúsculas.\n",
    "- cantidadPalabrasConDistincion: Variable utilizada para almacenar la cantidad de veces que una palabra se encuentra presente en el texto con distinción de mayúsculas y minúsculas.\n",
    "\n",
    "Se utiliza la funcion .count() para encontar la cantidad de veces que se repite el substring o palabra en el texto, split para dividir el texto en palabras en una lista\n",
    "Tambien se hace uso de una lista en donde contiene signos que podrian ser utilizados en el texto, para que palabras que tengan un signo al final o al inicio y que el texto no lo considere como una palabra completa como por ejemplo: \"¿Cómo\" \"Ocasión.\""
   ]
  },
  {
   "cell_type": "code",
   "execution_count": 60,
   "metadata": {},
   "outputs": [
    {
     "name": "stdout",
     "output_type": "stream",
     "text": [
      "La cantidad de veces que se repite la palabra sin distinción es: 38\n",
      "La cantidad de veces que se repite la palabra con distinción es: 35\n"
     ]
    }
   ],
   "source": [
    "contenidoTexto = content[:]\n",
    "contenidoTexto1 = contenidoTexto.lower()\n",
    "signos = ['.', ',', ';', ':', '!', '¡','?','¿','(', ')', '[', ']', '{', '}', '\"', \"'\",\"«\",'<','>','|','°','-']\n",
    "\n",
    "#Se remueve todos los signos del texto\n",
    "for signo in signos:\n",
    "    contenidoTexto1 = contenidoTexto1.replace(signo, ' ')\n",
    "    contenidoTexto = contenidoTexto.replace(signo, ' ')\n",
    "\n",
    "palabraBuscar = input(\"Escriba la palabra que desea buscar: \").split()[0]\n",
    "cantidadPalabrasSinDistincion = contenidoTexto1.split().count(palabraBuscar.lower())\n",
    "cantidadPalabrasConDistincion = contenidoTexto.split().count(palabraBuscar)\n",
    "\n",
    "if cantidadPalabrasConDistincion>0 or cantidadPalabrasSinDistincion>0:\n",
    "    print(\"La cantidad de veces que se repite la palabra sin caso sensitivo es:\", cantidadPalabrasSinDistincion)\n",
    "    print(\"La cantidad de veces que se repite la palabra con caso sensitivo es:\", cantidadPalabrasConDistincion)\n",
    "else:\n",
    "    print(\"La palabra no se encuentra en el texto.\")"
   ]
  },
  {
   "cell_type": "markdown",
   "metadata": {},
   "source": [
    "#### 3.2 Buscar una palabra o substring con o sin distinción de mayúsculas y minúsculas indicando cuantas veces aparece."
   ]
  },
  {
   "cell_type": "markdown",
   "metadata": {},
   "source": [
    "Esta función servirá para buscar tanto palabras como substrings contenidos dentro de las palabras presentes en el archivo de texto y se mostrará un contador indicando cuantas veces aparece dicha palabra o substring en el documento. Esta función tendrá 2 casos, uno en el que se tomará en cuenta las mayúsculas y minúsculas y otro en el que no se tomarán en cuenta.\n",
    "\n",
    "Para esto se utilizarán las siguientes variables generales:\n",
    "- subBuscar: Variable input utilizada para determinar la palabra o substring que se desea buscar en el texto.\n",
    "- cantidadSubSinDistincion: Variable utilizada para almacenar la cantidad de veces que una palabra o substring se encuentra presente en el texto sin distinción de mayúsculas y minúsculas.\n",
    "- cantidadSubConDistincion: Variable utilizada para almacenar la cantidad de veces que una palabra o substring se encuentra presente en el texto con distinción de mayúsculas y minúsculas.\n",
    "\n",
    "Se utiliza la funcion .count() para encontar la cantidad de veces que se repite el substring o palabra en el texto\n",
    "    "
   ]
  },
  {
   "cell_type": "code",
   "execution_count": 62,
   "metadata": {},
   "outputs": [
    {
     "name": "stdout",
     "output_type": "stream",
     "text": [
      "La cantidad de veces que se repite el substring sin caso sensitivo es: 90\n",
      "La cantidad de veces que se repite el substring con caso sensitivo es: 87\n"
     ]
    }
   ],
   "source": [
    "subBuscar = input(\"Escriba la palabra que desea buscar: \")\n",
    "cantidadSubSinDistincion = content.lower().count(subBuscar.lower())\n",
    "cantidadSubConDistincion = content.count(subBuscar)\n",
    "\n",
    "if cantidadSubConDistincion>0 or cantidadSubSinDistincion>0:\n",
    "    print(\"La cantidad de veces que se repite el substring sin caso sensitivo es:\", cantidadSubSinDistincion)\n",
    "    print(\"La cantidad de veces que se repite el substring con caso sensitivo es:\", cantidadSubConDistincion)\n",
    "else:\n",
    "    print(\"El substring no se encuentra en el texto.\")"
   ]
  },
  {
   "cell_type": "markdown",
   "metadata": {},
   "source": [
    "## 4. Reemplazar en el texto"
   ]
  },
  {
   "cell_type": "markdown",
   "metadata": {},
   "source": [
    "#### 4.1 Reemplazar una palabra completa con o sin distinción de mayúsculas y minúsculas guardando los cambios en el archivo."
   ]
  },
  {
   "cell_type": "markdown",
   "metadata": {},
   "source": []
  },
  {
   "cell_type": "code",
   "execution_count": null,
   "metadata": {},
   "outputs": [],
   "source": [
    "palabraBuscar = input(\"Escriba la palabra que desea cambiar: \")\n",
    "palabraReemplazar = input(\"Escriba la nueva palabra: \")\n",
    "\n",
    "conDistincion = input(\"¿Desea que la búsqueda distinga mayusculas de minusculas? (S/N): \")\n",
    "\n",
    "# usando upper() se asegura que el usuario aunque escriba s en minuscula la tome como S mayúsculam si se presiona la S devuelve True mientras que si es N devuelve False\n",
    "conDistincion = conDistincion.upper() == \"S\"\n",
    "\n",
    "# Reemplaza la palabra en el contenido utilizando el método split() para dividir las palabras del texto en una cadena para que la búsqueda sea más óptima. \n",
    "words = content.split()\n",
    "\n",
    "#Usando la condicional if() se evalúa si la palabra es igual a palabraBuscar y si conDistinción es True o False para hacer o no distinción de mayúscula\n",
    "#Si es True hace distinción de mayúscula y minuscúla y se reemplaza por palabraReemplazar.\n",
    "#Si es False no hace distinción de mayúscula y minúscula y se reemplaza toda palabraBuscar por palabraReemplazar.\n",
    "#si se procede al else la palabra se mantiene.\n",
    "new_words = [palabraReemplazar if (word == palabraBuscar and conDistincion) or (word.lower() == palabraBuscar.lower() and not conDistincion) else word for word in words]\n",
    "\n",
    "#usa el método join() para unir las nuevas palabras en una sola cadena y las separa por un espacio.\n",
    "new_content = \" \".join(new_words)\n",
    "# Guardar el contenido modificado en el mismo archivo utilizando \"w\" para de esta manera sobreescribir.\n",
    "with open('output/'+filename_list[index_filename], \"w\", encoding=\"UTF-8\") as file:\n",
    "    file.write(new_content)\n",
    "\n",
    "print(\"El texto fue modificado y almacenado en la carpeta Output\")\n"
   ]
  },
  {
   "cell_type": "markdown",
   "metadata": {},
   "source": [
    "#### 4.2 Reemplazar una palabra o substring con o sin distinción de mayúsculas y minúsculas guardando los cambios en el archivo."
   ]
  },
  {
   "cell_type": "markdown",
   "metadata": {},
   "source": [
    "Para el reemplazo de una palabra o substring en el archivo, declaramos dos funciones, uno es replacing_substring en donde se realizara el trabajo de reemplazar la palabra o substring por otro dado por el usuario, aqui se utiliza metodos como la concatenacion de strings y la funcion find para buscar el indice donde se encuentra el substring o palabra a reemplazar, luego la funcion check_if_exist, para verificar si la palabra o substring que desea reemplazar el usuario se encuentra en el archivo.\n",
    "Luego se tiene una serie de inputs, donde se le pregunta al usuario si desea utilizar para caso sensitivo de mayusculas o minusculas, la palabra o substring que desea reemplazar y con que substring o palabra va a reemplazar lo anterior."
   ]
  },
  {
   "cell_type": "code",
   "execution_count": 63,
   "metadata": {},
   "outputs": [
    {
     "name": "stdout",
     "output_type": "stream",
     "text": [
      "El archivo de texto fue modificado de manera exitosa\n"
     ]
    }
   ],
   "source": [
    "#Realiza la función de reemplazar un substring s_find por el substring s_replace, primero busca el indice donde comienza el substring que queremos reemplazar (utilizamos la función lower para convertir el string que queremos reemplazar\n",
    "# a minúsculas, asi poder encontrarlo inmediatamente independiente si se requiere distinción de mayúsculas y minúsculas o no), luego de eso se crea el nuevo contenido new_content con la modificación, reemplazando el substring por el nuevo substring s_replace\n",
    "#Entradas:\n",
    "#- content: el contenido del archivo de texto a modificar\n",
    "#- filename: la ruta del archivo de texto\n",
    "#- s_find: el substring que queremos buscar y reemplazar\n",
    "#- s_replace: el substring con la que vamos a reemplazar s_find\n",
    "#Salida:\n",
    "#True si la operación ha sido realizada de manera correcta\n",
    "def replacing_substring(content, filename, s_find, s_replace):\n",
    "    start = 0\n",
    "    new_content = content[:]\n",
    "    while(True):\n",
    "        index = content.lower().find(s_find.lower(),start)\n",
    "        if(index==-1):\n",
    "            break\n",
    "        new_content = new_content[:index] + s_replace + new_content[index+len(s_find):]\n",
    "        start=index+len(s_replace)\n",
    "    with open('output/'+filename, 'w', encoding=\"UTF-8\") as file_text:\n",
    "        file_text.write(new_content)\n",
    "    return True\n",
    "\n",
    "#Realiza la función de chequear si el substring que quiere buscar el usuario existe o no\n",
    "#Entradas:\n",
    "#- content: contenido del texto a modificaremos\n",
    "#- s_find: el substring a buscar en el texto que el usuario desea reemplazar\n",
    "#- case_sensitive: variable booleano si se desea que la búsqueda sea Case Sensitive (distinción de mayúsculas y minúsculas), si es true entonces la búsqueda \n",
    "# va ser Case Sensitive, por el contrario si es False entonces la búsqueda no va ser Case Sensitive\n",
    "def check_if_exist(content, s_find, case_sensitive):\n",
    "    if(case_sensitive):\n",
    "        index = content.find(s_find)\n",
    "    else:\n",
    "        index = content.lower().find(s_find.lower())\n",
    "    if(index == -1):\n",
    "        return False\n",
    "    return True\n",
    "\n",
    "exist = False\n",
    "#Input si el usuario desea que sea caso sensitivo\n",
    "case_sensitive = input(\"¿Desea que la búsqueda distinga mayusculas de minusculas? (S/N): \").lower()\n",
    "cs = True\n",
    "if(case_sensitive!='s'):\n",
    "    cs = False\n",
    "#Loop para que el usuario introduzca un substring que exista en el archivo de texto\n",
    "while(not exist):\n",
    "    s_find = input(\"Introduzca la palabra o substring que desea reemplazar\")\n",
    "    exist = check_if_exist(content, s_find, cs)\n",
    "    if(exist == False):\n",
    "        print(\"Error: palabra o substring no fue encontrado\")\n",
    "        \n",
    "s_replace = input(\"Introduzca la palabra o substring a reemplazar\")\n",
    "replacing_substring(content, filename_list[index_filename], s_find, s_replace)\n",
    "print(\"El texto fue modificado y almacenado en la carpeta Output\")"
   ]
  }
 ],
 "metadata": {
  "kernelspec": {
   "display_name": "Python 3",
   "language": "python",
   "name": "python3"
  },
  "language_info": {
   "codemirror_mode": {
    "name": "ipython",
    "version": 3
   },
   "file_extension": ".py",
   "mimetype": "text/x-python",
   "name": "python",
   "nbconvert_exporter": "python",
   "pygments_lexer": "ipython3",
   "version": "3.12.1"
  }
 },
 "nbformat": 4,
 "nbformat_minor": 2
}
