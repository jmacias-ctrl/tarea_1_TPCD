{
 "cells": [
  {
   "cell_type": "markdown",
   "metadata": {},
   "source": [
    "# Tarea 1 - Taller de Python para Ciencia de Datos "
   ]
  },
  {
   "cell_type": "markdown",
   "metadata": {},
   "source": [
    "**Integrantes: Jose Macías, Matías Madariaga, Rayen Nahuelhual**\n",
    "\n",
    "Para la ejecución de este código, no se necesita ninguna librería adicional que se debe descargar e instalar, este código solo utiliza las librerías que ya vienen incluidos en Python.\n",
    "Se requiere Python 3 para la ejecución del código.\n",
    "Cabe indicar que para la ejecución de las funciones 2 al 4, se requiere ejecutar primero la función 1. Escoger un Archivo de Texto y escoger un archivo de texto que están en la carpeta Input, esta función le indicara que archivos hay en la carpeta y podrá seleccionar mediante comando.\n",
    "\n",
    "___"
   ]
  },
  {
   "cell_type": "markdown",
   "metadata": {},
   "source": [
    "### Tabla de Contenidos\n",
    "1. [Escoger un Archivo de Texto](###1.-Escoger-un-archivo-de-texto)\n",
    "2. [Estadísticas del Texto](#2.-Estadisticas-del-Texto)\n",
    "3. [Buscar en el Texto](#3.-Buscar-en-el-Texto)\n",
    "4. [Reemplazar en el Texto](#4.-Reemplazar-en-el-Texto)"
   ]
  },
  {
   "cell_type": "markdown",
   "metadata": {},
   "source": [
    "### 1. Escoger un archivo de texto\n",
    "(Para el funcionamiento del resto de las funciones, se requiere ejecutar esta sección del código)\n",
    "Importamos la librería os y utilizamos la función os.listdir para obtener una lista de nombres de archivos que están almacenados en la carpeta \"io\", esta lista es imprimida al usuario con cada nombre de archivo asignado a un numero, el usuario podrá escoger el archivo que desee introduciendo el numero asociado al archivo.\n",
    "Luego abrimos el archivo que escogió el usuario utilizando el numero que introduzco, recuperando el nombre en la lista de archivos con indice del numero, luego se procede a leer el contenido del archivo."
   ]
  },
  {
   "cell_type": "code",
   "execution_count": null,
   "metadata": {},
   "outputs": [],
   "source": [
    "import os\n",
    "\n",
    "#Obtenemos la lista de archivos de texto que están almacenados en la carpeta \"io\"\n",
    "filename_list = os.listdir('input')\n",
    "\n",
    "print('Seleccione el archivo de texto que desea trabajar')\n",
    "for i in range(1,len(filename_list)+1):\n",
    "    print(str(i)+\".- \"+filename_list[i-1])\n",
    "index_filename = (int(input())%len(filename_list))-1\n",
    "\n",
    "file_path = \"input/\"+filename_list[index_filename]\n",
    "\n",
    "print(\"Texto seleccionado: \"+filename_list[index_filename])\n",
    "\n",
    "#Se abre el archivo y se lee el contenido en ella y se almacena en la variable \"content\"\n",
    "with open(file_path, \"r\", encoding=\"UTF-8\") as file:\n",
    "    content = file.read()"
   ]
  },
  {
   "cell_type": "markdown",
   "metadata": {},
   "source": [
    "## 2. Estadísticas del texto\n",
    "Esta entrega los siguientes datos:\n",
    "- La cantidad de párrafos en el texto\n",
    "- La cantidad de palabras y palabras únicas en el texto\n",
    "- La cantidad de caracteres con y sin espacio en el texto\n",
    "\n",
    "Para esto, utilizamos 4 variables\n",
    "\n",
    "1. content que es el contenido del texto recuperado del archivo escogido del usuario, este ya se encuentra declarado en la sección \"Escoger un archivo de texto\", como es el texto completo en un string, va ser utilizado para el calculo de caracteres con y sin espacio.\n",
    "2. text es la variable que se almacena la division del contenido del texto por lineas, almacenándolos en una lista, este va ser utilizado para saber cuanta cantidad de párrafos hay en el texto\n",
    "3. text_split es la variable que se almacena la division dele contenido del texto por palabras, almacenándolos en una lista, este va ser utilizado para saber la cantidad de palabras que hay en el texto\n",
    "4. set_words es un set en que convierte la lista text_split que contiene las palabras del texto en un set, esto hace que solo se almacenen palabras que no se repiten en este set."
   ]
  },
  {
   "cell_type": "code",
   "execution_count": null,
   "metadata": {},
   "outputs": [],
   "source": [
    "text = [x for x in content.splitlines() if x]\n",
    "text_split = content.split()\n",
    "set_words = set(text_split)\n",
    "\n",
    "print(\"Estadísticas del Texto \"+filename_list[index_filename]+\":\")\n",
    "print(\"Total de Párrafos: \"+str(len(text))) #len(text) nos entrega la cantidad de párrafos, se utilizo splitline() en content, esto hace que el texto del archivo se divida por lineas en una lista, cada indice de la lista es un párrafo.\n",
    "print(\"Total de Palabras: \"+str(len(text_split))) #len(text_split) nos entrega la cantidad de palabras, se utilizo split() en content, esto hace que el texto del archivo se divida por palabras en una lista, cada indice es una palabra.\n",
    "print(\"Total de Palabras Únicas: \"+str(len(set_words))) #len(set_words) nos entrega la cantidad de palabras únicas, como tenemos las palabras del texto almacenadas en una lista llamada text_split, podemos convertir la lista en un set, esto hace que solo se almacenen palabras que no estén repetidas de la lista\n",
    "print(\"Total de Caracteres: \"+str(len(content)-content.count('\\n'))) #len(content) nos entrega la cantidad de caracteres que hay en el texto (contando los espacios), como los saltos de lineas son considerados como caracteres, le restamos a lo anterior la cantidad de veces que se tiene \\n en el texto que es un salto de linea.\n",
    "print(\"Total de Caracteres (Sin Espacio): \"+str(sum(map(len,content.split())))) #se utiliza la función map, donde divide el contenido del texto por palabras y obtiene el tamaño de esta palabra y lo almacena en una lista, luego se realiza la suma de todos los tamaños obtenidos"
   ]
  },
  {
   "cell_type": "markdown",
   "metadata": {},
   "source": [
    "## 3. Buscar en el Texto"
   ]
  },
  {
   "cell_type": "markdown",
   "metadata": {},
   "source": [
    "#### 3.1 Buscar una palabra completa con o sin distinción de mayúsculas y minúsculas indicando cuantas veces aparece"
   ]
  },
  {
   "cell_type": "markdown",
   "metadata": {},
   "source": [
    "Esta función servirá para buscar una palabra completa contenidos dentro de las palabras presentes en el archivo de texto y se mostrará un contador indicando cuantas veces aparece dicha palabra en el documento. Esta función tendrá 2 casos, uno en el que se tomará en cuenta las mayúsculas y minúsculas y otro en el que no se tomarán en cuenta.\n",
    "\n",
    "Para esto se utilizarán las siguientes variables generales:\n",
    "- palabraBuscar: Variable input utilizada para determinar la palabra que se desea buscar en el texto.\n",
    "- cantidadPalabrasSinDistincion: Variable utilizada para almacenar la cantidad de veces que una palabra se encuentra presente en el texto sin distinción de mayúsculas y minúsculas.\n",
    "- cantidadPalabrasConDistincion: Variable utilizada para almacenar la cantidad de veces que una palabra se encuentra presente en el texto con distinción de mayúsculas y minúsculas.\n",
    "\n",
    "Se utiliza la función .count() para encontrar la cantidad de veces que se repite el substring o palabra en el texto, split para dividir el texto en palabras en una lista\n",
    "También se hace uso de una lista en donde contiene signos que podrían ser utilizados en el texto, para que palabras que tengan un signo al final o al inicio y que el texto no lo considere como una palabra completa como por ejemplo: \"¿Cómo\" \"Ocasión.\""
   ]
  },
  {
   "cell_type": "code",
   "execution_count": null,
   "metadata": {},
   "outputs": [],
   "source": [
    "contenidoTexto = content[:]\n",
    "contenidoTexto1 = contenidoTexto.lower()\n",
    "signos = ['.', ',', ';', ':', '!', '¡','?','¿','(', ')', '[', ']', '{', '}', '\"', \"'\",\"«\",'<','>','|','°','-']\n",
    "\n",
    "#Se remueve todos los signos del texto\n",
    "for signo in signos:\n",
    "    contenidoTexto1 = contenidoTexto1.replace(signo, ' ')\n",
    "    contenidoTexto = contenidoTexto.replace(signo, ' ')\n",
    "    \n",
    "#Si el usuario entrega un string y no una palabra, se utiliza la función split y almacenara la primera palabra del string.\n",
    "palabraBuscar = input(\"Escriba la palabra que desea buscar: \").split()[0]\n",
    "\n",
    "cantidadPalabrasSinDistincion = contenidoTexto1.split().count(palabraBuscar.lower())\n",
    "cantidadPalabrasConDistincion = contenidoTexto.split().count(palabraBuscar)\n",
    "\n",
    "if cantidadPalabrasConDistincion>0 or cantidadPalabrasSinDistincion>0:\n",
    "    print(\"La cantidad de veces que se repite la palabra sin caso sensitivo es:\", cantidadPalabrasSinDistincion)\n",
    "    print(\"La cantidad de veces que se repite la palabra con caso sensitivo es:\", cantidadPalabrasConDistincion)\n",
    "else:\n",
    "    print(\"La palabra no se encuentra en el texto.\")"
   ]
  },
  {
   "cell_type": "markdown",
   "metadata": {},
   "source": [
    "#### 3.2 Buscar una palabra o substring con o sin distinción de mayúsculas y minúsculas indicando cuantas veces aparece."
   ]
  },
  {
   "cell_type": "markdown",
   "metadata": {},
   "source": [
    "Esta función servirá para buscar tanto palabras como substrings contenidos dentro de las palabras presentes en el archivo de texto y se mostrará un contador indicando cuantas veces aparece dicha palabra o substring en el documento. Esta función tendrá 2 casos, uno en el que se tomará en cuenta las mayúsculas y minúsculas y otro en el que no se tomarán en cuenta.\n",
    "\n",
    "Para esto se utilizarán las siguientes variables generales:\n",
    "- subBuscar: Variable input utilizada para determinar la palabra o substring que se desea buscar en el texto.\n",
    "- cantidadSubSinDistincion: Variable utilizada para almacenar la cantidad de veces que una palabra o substring se encuentra presente en el texto sin distinción de mayúsculas y minúsculas.\n",
    "- cantidadSubConDistincion: Variable utilizada para almacenar la cantidad de veces que una palabra o substring se encuentra presente en el texto con distinción de mayúsculas y minúsculas.\n",
    "\n",
    "Se utiliza la función .count() para encontrar la cantidad de veces que se repite el substring o palabra en el texto\n",
    "    "
   ]
  },
  {
   "cell_type": "code",
   "execution_count": null,
   "metadata": {},
   "outputs": [],
   "source": [
    "subBuscar = input(\"Escriba la palabra que desea buscar: \")\n",
    "cantidadSubSinDistincion = content.lower().count(subBuscar.lower())\n",
    "cantidadSubConDistincion = content.count(subBuscar)\n",
    "\n",
    "if cantidadSubConDistincion>0 or cantidadSubSinDistincion>0:\n",
    "    print(\"La cantidad de veces que se repite el substring sin caso sensitivo es:\", cantidadSubSinDistincion)\n",
    "    print(\"La cantidad de veces que se repite el substring con caso sensitivo es:\", cantidadSubConDistincion)\n",
    "else:\n",
    "    print(\"El substring no se encuentra en el texto.\")"
   ]
  },
  {
   "cell_type": "markdown",
   "metadata": {},
   "source": [
    "## 4. Reemplazar en el texto"
   ]
  },
  {
   "cell_type": "markdown",
   "metadata": {},
   "source": [
    "#### 4.1 Reemplazar una palabra completa con o sin distinción de mayúsculas y minúsculas guardando los cambios en el archivo."
   ]
  },
  {
   "cell_type": "markdown",
   "metadata": {},
   "source": [
    "Buscar una palabra completa y reemplazarlo por otra palabra que desee el usuario, en esta función se realiza los correspondientes inputs para la palabra a reemplazar y con que palabra reemplazarlo, luego realizara una serie de instrucciones para reemplazar todas las ocasiones de palabras a reemplazar, verificando de que lo que encuentre mediante función index sea una palabra y no un substring dentro de otra palabra, se realizan las modificaciones en una copia del contenido y sera almacenado en la carpeta 'output'."
   ]
  },
  {
   "cell_type": "code",
   "execution_count": null,
   "metadata": {},
   "outputs": [],
   "source": [
    "#Si el usuario entrega un string y no una palabra, se utiliza la función split y almacenara la primera palabra del string.\n",
    "palabraBuscar = input(\"Escriba la palabra que desea cambiar: \").split()[0]\n",
    "palabraReemplazar = input(\"Escriba la nueva palabra: \").split()[0]\n",
    "\n",
    "conDistincion = input(\"¿Desea que la búsqueda distinga mayúsculas de minúsculas? (S/N): \")\n",
    "\n",
    "# usando upper() se asegura que el usuario aunque escriba s en minúscula la tome como S mayúscula si se presiona la S devuelve True mientras que si es N devuelve False\n",
    "conDistincion = conDistincion.upper() == \"S\"\n",
    "\n",
    "new_content = content[:]\n",
    "signos = ['.', ',', ';', ':', '!', '¡','?','¿','(', ')', '[', ']', '{', '}', '\"', \"'\",\"«\",'<','>','|','°','-', ' ']\n",
    "start = 0\n",
    "#copiar el contenido del texto\n",
    "#booleano que indica si hubo cambios o no\n",
    "changes = False\n",
    "while(True):\n",
    "    #Iteración para reemplazar todos los substrings que el usuario quiere reemplazar\n",
    "    if(conDistincion):\n",
    "        index = new_content.find(palabraBuscar, start)\n",
    "    else:\n",
    "        index = new_content.lower().find(palabraBuscar.lower(), start)\n",
    "    #si es -1, es porque no se encontró la palabra en el texto, esto puede ser al comienzo o luego de varias iteraciones (reemplazos de la palabra)\n",
    "    if(index==-1):\n",
    "        break\n",
    "    #para saber si el indice que fue encontrado anteriormente es la palabra y no un substring dentro de una palabra, se verifica primero si no es la primera letra del texto\n",
    "    #se verifica que el indice anterior al encontrado es un signo o espacio y también el indice después del final de la palabra sea un signo o un espacio\n",
    "    #si no es un signo o espacio lo anterior y son letras, entonces se encontró como substring dentro de otra palabra y se ignora. \n",
    "    if(index!=0 and new_content[index-1] in signos and new_content[index+len(palabraBuscar)] in signos):\n",
    "        new_content = new_content[:index] + palabraReemplazar + new_content[index+len(palabraBuscar):]\n",
    "        start=index+len(palabraReemplazar)\n",
    "        changes = True\n",
    "    else: \n",
    "        start=index+len(palabraBuscar)\n",
    "if(changes):\n",
    "    with open('output/'+filename_list[index_filename], 'w', encoding=\"UTF-8\") as file_text:\n",
    "        file_text.write(new_content)\n",
    "    print(\"El texto fue modificado y almacenado en la carpeta Output\")\n",
    "else:\n",
    "    print(\"No se encontró la palabra\")\n",
    "\n",
    "\n",
    "\n"
   ]
  },
  {
   "cell_type": "markdown",
   "metadata": {},
   "source": [
    "#### 4.2 Reemplazar una palabra o substring con o sin distinción de mayúsculas y minúsculas guardando los cambios en el archivo."
   ]
  },
  {
   "cell_type": "markdown",
   "metadata": {},
   "source": [
    "Para el reemplazo de una palabra o substring en el archivo, declaramos una función, uno es replacing_substring en donde se realizara el trabajo de reemplazar la palabra o substring por otro dado por el usuario, aquí se utiliza métodos como la concatenación de strings y la función find para buscar el indice donde se encuentra el substring o palabra a reemplazar.\n",
    "\n",
    "Luego se tiene una serie de inputs, donde se le pregunta al usuario si desea utilizar para caso sensitivo de mayúsculas o minúsculas, la palabra o substring que desea reemplazar y con que substring o palabra va a reemplazar lo anterior."
   ]
  },
  {
   "cell_type": "code",
   "execution_count": null,
   "metadata": {},
   "outputs": [],
   "source": [
    "#Realiza la función de reemplazar un substring s_find por el substring s_replace, primero busca el indice donde comienza el substring que queremos reemplazar\n",
    "#luego de eso se crea el nuevo contenido new_content con la modificación, reemplazando el substring por el nuevo substring s_replace\n",
    "#Entradas:\n",
    "#- content: el contenido del archivo de texto a modificar\n",
    "#- filename: la ruta del archivo de texto\n",
    "#- s_find: el substring que queremos buscar y reemplazar\n",
    "#- s_replace: el substring con la que vamos a reemplazar s_find\n",
    "#- case_sensitive: booleano que indica si es con distinción de mayúsculas y minúsculas o no\n",
    "#Salida:\n",
    "#True Si se encontró el substring a reemplazar y ha hecho los reemplazos respectivos\n",
    "#False No encontró el substring a reemplazar en el texto\n",
    "def replacing_substring(content, filename, s_find, s_replace, case_sensitive):\n",
    "    start = 0\n",
    "    #copiar el contenido del texto\n",
    "    new_content = content[:]\n",
    "    #booleano que indica si hubo cambios o no\n",
    "    changes = False\n",
    "    while(True):\n",
    "        #Iteracion para reemplazar todos los substrings que el usuario quiere reemplazar\n",
    "        if(case_sensitive):\n",
    "            index = new_content.find(s_find, start)\n",
    "        else:\n",
    "            index = new_content.lower().find(s_find.lower(), start)\n",
    "        #si es -1, es porque no se encontró el substring en el texto, esto puede ser al comienzo o luego de varias iteraciones (reemplazos del substring)\n",
    "        if(index==-1):\n",
    "            break\n",
    "        #se reemplaza el substring del texto por s_replace y se almacena en new_content\n",
    "        new_content = new_content[:index] + s_replace + new_content[index+len(s_find):]\n",
    "        start=index+len(s_replace)\n",
    "        changes = True\n",
    "    if(changes):\n",
    "        with open('output/'+filename, 'w', encoding=\"UTF-8\") as file_text:\n",
    "            file_text.write(new_content)\n",
    "        print(\"El texto fue modificado y almacenado en la carpeta Output\")\n",
    "    else:\n",
    "        print(\"No se ha encontrado la palabra\")\n",
    "    return changes\n",
    "\n",
    "#Input si el usuario desea que sea caso sensitivo, si el input ingresado por el usuario es 's' entonces almacenara True en la variable case_sensitive, False en el caso contrario\n",
    "case_sensitive = input(\"¿Desea que la búsqueda distinga mayúsculas de minúsculas? (S/N): \").lower() == \"s\"\n",
    "\n",
    "s_find = input(\"Introduzca la palabra o substring que desea reemplazar\")    \n",
    "s_replace = input(\"Introduzca la palabra o substring a reemplazar\")\n",
    "\n",
    "replacing_substring(content, filename_list[index_filename], s_find, s_replace, case_sensitive)\n",
    "    \n"
   ]
  }
 ],
 "metadata": {
  "kernelspec": {
   "display_name": "Python 3",
   "language": "python",
   "name": "python3"
  },
  "language_info": {
   "codemirror_mode": {
    "name": "ipython",
    "version": 3
   },
   "file_extension": ".py",
   "mimetype": "text/x-python",
   "name": "python",
   "nbconvert_exporter": "python",
   "pygments_lexer": "ipython3",
   "version": "3.11.8"
  }
 },
 "nbformat": 4,
 "nbformat_minor": 2
}
