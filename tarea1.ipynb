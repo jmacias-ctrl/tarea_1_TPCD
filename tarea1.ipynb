{
 "cells": [
  {
   "cell_type": "markdown",
   "metadata": {},
   "source": [
    "# Tarea 1 - Taller de Python para Ciencia de Datos "
   ]
  },
  {
   "cell_type": "markdown",
   "metadata": {},
   "source": [
    "### Tabla de Contenidos\n",
    "1. [Escoger un Archivo de Texto](###1.-Escoger-un-archivo-de-texto)\n",
    "2. [Estadísticas del Texto](#2.-Estadisticas-del-Texto)\n",
    "3. [Buscar en el Texto](#3.-Buscar-en-el-Texto)\n",
    "4. [Reemplazar en el Texto](#4.-Reemplazar-en-el-Texto)"
   ]
  },
  {
   "cell_type": "markdown",
   "metadata": {},
   "source": [
    "### 1. Escoger un archivo de texto\n",
    "(Para el funcionamiento del resto de las funciones, se requiere ejecutar esta sección del código)\n",
    "Importamos la librería os y utilizamos la función os.listdir para obtener una lista de nombres de archivos que están almacenados en la carpeta \"io\", esta lista es imprimida al usuario con cada nombre de archivo asignado a un numero, el usuario podrá escoger el archivo que desee introduciendo el numero asociado al archivo.\n",
    "Luego abrimos el archivo que escogió el usuario utilizando el numero que introduzco, recuperando el nombre en la lista de archivos con indice del numero, luego se procede a leer el contenido del archivo."
   ]
  },
  {
   "cell_type": "code",
   "execution_count": 6,
   "metadata": {},
   "outputs": [
    {
     "name": "stdout",
     "output_type": "stream",
     "text": [
      "Seleccione el archivo de texto que desea trabajar\n",
      "1.- El_Arbol_De_La_Colina.txt\n",
      "2.- El_Caos_Reptante.txt\n",
      "3.- En_El_Mar_Remoto.txt\n",
      "4.- Lazarillo_de_Tormes.txt\n",
      "5.- Para_Leer_Al_Atardecer.txt\n",
      "6.- Una_corta_historia_del_eBook.txt\n",
      "Texto seleccionado: El_Arbol_De_La_Colina.txt\n"
     ]
    }
   ],
   "source": [
    "import os\n",
    "\n",
    "#Obtenemos la lista de archivos de texto que están almacenados en la carpeta \"io\"\n",
    "filename_list = os.listdir('io')\n",
    "\n",
    "print('Seleccione el archivo de texto que desea trabajar')\n",
    "for i in range(1,len(filename_list)+1):\n",
    "    print(str(i)+\".- \"+filename_list[i-1])\n",
    "index_filename = (int(input())%len(filename_list))-1\n",
    "\n",
    "file_path = \"io/\"+filename_list[index_filename]\n",
    "\n",
    "print(\"Texto seleccionado: \"+filename_list[index_filename])\n",
    "\n",
    "#Se abre el archivo y se lee el contenido en ella y se almacena en la variable \"content\"\n",
    "with open(file_path, \"r\", encoding=\"UTF-8\") as file:\n",
    "    content = file.read()"
   ]
  },
  {
   "cell_type": "markdown",
   "metadata": {},
   "source": [
    "## 2. Estadísticas del texto\n",
    "Esta entrega los siguientes datos:\n",
    "- La cantidad de párrafos en el texto\n",
    "- La cantidad de palabras y palabras únicas en el texto\n",
    "- La cantidad de caracteres con y sin espacio en el texto\n",
    "\n",
    "Para esto, utilizamos 4 variables\n",
    "\n",
    "1. content que es el contenido del texto recuperado del archivo escogido del usuario, este ya se encuentra declarado en la sección \"Escoger un archivo de texto\", como es el texto completo en un string, va ser utilizado para el calculo de caracteres con y sin espacio.\n",
    "2. text es la variable que se almacena la division del contenido del texto por lineas, almacenándolos en una lista, este va ser utilizado para saber cuanta cantidad de párrafos hay en el texto\n",
    "3. text_split es la variable que se almacena la division dele contenido del texto por palabras, almacenándolos en una lista, este va ser utilizado para saber la cantidad de palabras que hay en el texto\n",
    "4. set_words es un set en que convierte la lista text_split que contiene las palabras del texto en un set, esto hace que solo se almacenen palabras que no se repiten en este set."
   ]
  },
  {
   "cell_type": "code",
   "execution_count": 3,
   "metadata": {},
   "outputs": [
    {
     "name": "stdout",
     "output_type": "stream",
     "text": [
      "Estadísticas del Texto El_Caos_Reptante.txt:\n",
      "Total de Párrafos: 17\n",
      "Total de Palabras: 2980\n",
      "Total de Palabras Únicas: 1379\n",
      "Total de Caracteres: 18114\n",
      "Total de Caracteres (Sin Espacio): 15142\n"
     ]
    }
   ],
   "source": [
    "text = [x for x in content.splitlines() if x]\n",
    "text_split = content.split()\n",
    "set_words = set(text_split)\n",
    "\n",
    "print(\"Estadísticas del Texto \"+filename_list[index_filename]+\":\")\n",
    "print(\"Total de Párrafos: \"+str(len(text))) #len(text) nos entrega la cantidad de párrafos, se utilizo splitline() en content, esto hace que el texto del archivo se divida por lineas en una lista, cada indice de la lista es un párrafo.\n",
    "print(\"Total de Palabras: \"+str(len(text_split))) #len(text_split) nos entrega la cantidad de palabras, se utilizo split() en content, esto hace que el texto del archivo se divida por palabras en una lista, cada indice es una palabra.\n",
    "print(\"Total de Palabras Únicas: \"+str(len(set_words))) #len(set_words) nos entrega la cantidad de palabras únicas, como tenemos las palabras del texto almacenadas en una lista llamada text_split, podemos convertir la lista en un set, esto hace que solo se almacenen palabras que no estén repetidas de la lista\n",
    "print(\"Total de Caracteres: \"+str(len(content)-content.count('\\n'))) #len(content) nos entrega la cantidad de caracteres que hay en el texto (contando los espacios), como los saltos de lineas son considerados como caracteres, le restamos a lo anterior la cantidad de veces que se tiene \\n en el texto que es un salto de linea.\n",
    "print(\"Total de Caracteres (Sin Espacio): \"+str(sum(map(len,content.split())))) #"
   ]
  },
  {
   "cell_type": "markdown",
   "metadata": {},
   "source": [
    "## 3. Buscar en el Texto"
   ]
  },
  {
   "cell_type": "markdown",
   "metadata": {},
   "source": [
    "#### 3.1 Buscar una palabra completa con o sin distinción de mayúsculas y minúsculas indicando cuantas veces aparece"
   ]
  },
  {
   "cell_type": "code",
   "execution_count": null,
   "metadata": {},
   "outputs": [],
   "source": [
    "contenidoTexto = content[:]\n",
    "contenidoTexto1 = contenidoTexto.lower()\n",
    "signos = ['.', ',', ';', ':', '!', '?', '(', ')', '[', ']', '{', '}', '\"', \"'\",\"«\"]\n",
    "for signo in signos:\n",
    "    contenidoTexto1 = contenidoTexto1.replace(signo, ' ')\n",
    "    contenidoTexto = contenidoTexto.replace(signo, ' ')\n",
    "\n",
    "palabraBuscar = input(\"Escriba la palabra que desea buscar: \")\n",
    "cantidadPalabrasSinDistincion = contenidoTexto1.split().count(palabraBuscar)\n",
    "cantidadPalabrasConDistincion = contenidoTexto.split().count(palabraBuscar)\n",
    "\n",
    "if palabraBuscar in contenidoTexto.split():\n",
    "    print(\"La cantidad de veces que se repite la palabra sin distinción es:\", cantidadPalabrasSinDistincion)\n",
    "    print(\"La cantidad de veces que se repite la palabra con distinción es:\", cantidadPalabrasConDistincion)\n",
    "else:\n",
    "    print(\"La palabra no se encuentra en el texto.\")"
   ]
  },
  {
   "cell_type": "markdown",
   "metadata": {},
   "source": [
    "#### 3.4 Buscar una palabra o substring con o sin distinción de mayúsculas y minúsculas indicando cuantas veces aparece."
   ]
  },
  {
   "cell_type": "markdown",
   "metadata": {},
   "source": [
    "Esta función servirá para buscar tanto palabras como substrings contenidos dentro de las palabras presentes en el archivo de texto y se mostrará un contador indicando cuantas veces aparece dicha palabra o substring en el documento. Esta función tendrá 2 casos, uno en el que se tomará en cuenta las mayúsculas y minúsculas y otro en el que no se tomarán en cuenta.\n",
    "\n",
    "Para esto se utilizarán las siguientes variables generales:\n",
    " - sub: Variable input utilizada para determinar la palabra o substring que se desea buscar en el texto.\n",
    "- start: Variable utilizada para guardar el punto de inicio de la búsqueda de la palabra o substring.\n",
    "- count: Variable utilizada para almacenar la cantidad de veces que una palabra o substring se encuentra presente en el texto.\n",
    "- line: Variable utilizada para almacenar la línea del documento de texto en la que se está busacando la palabra o substring.\n",
    "    "
   ]
  },
  {
   "cell_type": "markdown",
   "metadata": {},
   "source": [
    "Caso 1: Con distinción de mayúsculas y minúsculas"
   ]
  },
  {
   "cell_type": "code",
   "execution_count": null,
   "metadata": {},
   "outputs": [],
   "source": [
    "sub = input(\"Introduzca la palabra o substring que desea buscar en el archivo\"+filename_list[index_filename])\n",
    "start = 0\n",
    "count = 0\n",
    "for line in content.splitlines(): # Función \"for\" que analizará cada una de las líneas del documento de texto\n",
    "     # Busqueda substring con mayuscula y minuscula\n",
    "    for i in range(len(line)): # Función \"for\" que analizará los caracteres contenidos en las líneas del documento de texto\n",
    "        j = line.find(sub,start) # Función \"find\" para buscar el substring dentro de la línea empezando por el punto designado por la variable start\n",
    "        if(j!=-1): # Función \"if\" para revisar si se encontró una instancia de la palabra o substring\n",
    "            start+= j+1 # Se define un nuevo punto de partida a partir de la posición donde se encontró la instancia anterior\n",
    "            count+=1 # Se aumenta la cantidad de veces que el substring fué encontrado\n",
    "print('Se repite '+str(count)+' veces el substring \"'+sub+'\" en el texto')"
   ]
  },
  {
   "cell_type": "markdown",
   "metadata": {},
   "source": [
    "Caso 2: Sin distinción de mayúsculas y minúsculas"
   ]
  },
  {
   "cell_type": "code",
   "execution_count": null,
   "metadata": {},
   "outputs": [],
   "source": [
    "sub = input(\"Introduzca la palabra o substring que desea buscar en el archivo\"+filename_list[index_filename]).split()[0]\n",
    "start = 0\n",
    "count = 0\n",
    "for line in content.splitlines(): # Función \"for\" que analizará cada una de las líneas del documento de texto\n",
    "     # Busqueda substring con mayuscula y minuscula\n",
    "    for i in range(len(line)): # Función \"for\" que analizará los caracteres contenidos en las líneas del documento de texto\n",
    "        k = line.lower().find(sub.lower(),start) # Se convierte la línea y el input a minúsculas y se usa la función \"find\" para buscar el substring dentro de la línea empezando por el punto designado por la variable start\n",
    "        if(k!=-1): # Función \"if\" para revisar si se encontró una instancia de la palabra o substring\n",
    "            start+= k+1 # Se define un nuevo punto de partida a partir de la posición donde se encontró la instancia anterior\n",
    "            count +=1 # Se aumenta la cantidad de veces que el substring fué encontrado\n",
    "            \n",
    "print('Se repite '+str(count)+' veces el substring \"'+sub+'\" en el texto')"
   ]
  },
  {
   "cell_type": "markdown",
   "metadata": {},
   "source": [
    "## 4. Reemplazar en el texto"
   ]
  },
  {
   "cell_type": "markdown",
   "metadata": {},
   "source": [
    "#### 4.1 Reemplazar una palabra completa con o sin distinción de mayúsculas y minúsculas guardando los cambios en el archivo."
   ]
  },
  {
   "cell_type": "markdown",
   "metadata": {},
   "source": [
    "Para el caso con distinción de mayúsculas y minúsculas"
   ]
  },
  {
   "cell_type": "code",
   "execution_count": null,
   "metadata": {},
   "outputs": [],
   "source": []
  },
  {
   "cell_type": "markdown",
   "metadata": {},
   "source": [
    "Para el caso sin distinción de mayúsculas y minúsculas"
   ]
  },
  {
   "cell_type": "code",
   "execution_count": null,
   "metadata": {},
   "outputs": [],
   "source": []
  },
  {
   "cell_type": "markdown",
   "metadata": {},
   "source": [
    "#### 4.2 Reemplazar una palabra o substring con o sin distinción de mayúsculas y minúsculas guardando los cambios en el archivo."
   ]
  },
  {
   "cell_type": "code",
   "execution_count": null,
   "metadata": {},
   "outputs": [],
   "source": [
    "#Realiza la función de reemplazar un substring s_find por el substring s_replace, primero busca el indice donde comienza el substring que queremos reemplazar (utilizamos la función lower para convertir el string que queremos reemplazar\n",
    "# a minúsculas, asi poder encontrarlo inmediatamente independiente si se requiere distinción de mayúsculas y minúsculas o no), luego de eso se crea el nuevo contenido new_content con la modificación, reemplazando el substring por el nuevo substring s_replace\n",
    "#Entradas:\n",
    "#- content: el contenido del archivo de texto a modificar\n",
    "#- filename: la ruta del archivo de texto\n",
    "#- s_find: el substring que queremos buscar y reemplazar\n",
    "#- s_replace: el substring con la que vamos a reemplazar s_find\n",
    "#Salida:\n",
    "#True si la operación ha sido realizada de manera correcta\n",
    "def replacing_substring(content, filename, s_find, s_replace):\n",
    "    index = content.lower().find(s_find.lower())\n",
    "    new_content = content[:index] + s_replace + content[index+len(s_find):]\n",
    "    with open(filename, 'w', encoding=\"UTF-8\") as file_text:\n",
    "        file_text.write(new_content)\n",
    "    return True\n",
    "\n",
    "#Realiza la función de chequear si el substring que quiere buscar el usuario existe o no\n",
    "#Entradas:\n",
    "#- content: contenido del texto a modificaremos\n",
    "#- s_find: el substring a buscar en el texto que el usuario desea reemplazar\n",
    "#- case_sensitive: variable booleano si se desea que la búsqueda sea Case Sensitive (distinción de mayúsculas y minúsculas), si es true entonces la búsqueda \n",
    "# va ser Case Sensitive, por el contrario si es False entonces la búsqueda no va ser Case Sensitive\n",
    "def check_if_exist(content, s_find, case_sensitive):\n",
    "    if(case_sensitive):\n",
    "        index = content.find(s_find)\n",
    "    else:\n",
    "        index = content.lower().find(s_find.lower())\n",
    "    if(index == -1):\n",
    "        return False\n",
    "    return True"
   ]
  },
  {
   "cell_type": "markdown",
   "metadata": {},
   "source": [
    "Para el caso de reemplazar una palabra o substring con distinción de mayúsculas y minúsculas se utiliza lo siguiente:"
   ]
  },
  {
   "cell_type": "code",
   "execution_count": null,
   "metadata": {},
   "outputs": [],
   "source": [
    "exist = False\n",
    "s_find = \"\"\n",
    "#Loop para que el usuario introduzca un substring que exista en el archivo de texto\n",
    "while(exist==False):\n",
    "    print(\"Introduzca la palabra o substring que desea reemplazar\")\n",
    "    s_find = input()\n",
    "    exist = check_if_exist(content, s_find, True)\n",
    "    if(exist == False):\n",
    "        print(\"Error: palabra o substring no fue encontrado\")\n",
    "print(\"Introduzca la palabra o substring a reemplazar\")\n",
    "s_replace = input()\n",
    "replacing_substring(content, file_path, s_find, s_replace)\n",
    "print(\"El archivo de texto fue modificado de manera exitosa\")"
   ]
  },
  {
   "cell_type": "markdown",
   "metadata": {},
   "source": [
    "Para el caso de reemplazar una palabra o substring con distinción de mayúsculas y minúsculas se utiliza lo siguiente:"
   ]
  },
  {
   "cell_type": "code",
   "execution_count": null,
   "metadata": {},
   "outputs": [],
   "source": [
    "exist = False\n",
    "s_find = \"\"\n",
    "#Loop para que el usuario introduzca un substring que exista en el archivo de texto\n",
    "while(exist==False):\n",
    "    s_find = input(\"Introduzca la palabra o substring que desea reemplazar\")\n",
    "    exist = check_if_exist(content, s_find, False)\n",
    "    if(exist == False):\n",
    "        print(\"Error: palabra o substring no fue encontrado\")\n",
    "s_replace = input(\"Introduzca la palabra o substring a reemplazar\")\n",
    "replacing_substring(content, file_path, s_find, s_replace)\n",
    "print(\"El archivo de texto fue modificado de manera exitosa\")"
   ]
  }
 ],
 "metadata": {
  "kernelspec": {
   "display_name": "Python 3",
   "language": "python",
   "name": "python3"
  },
  "language_info": {
   "codemirror_mode": {
    "name": "ipython",
    "version": 3
   },
   "file_extension": ".py",
   "mimetype": "text/x-python",
   "name": "python",
   "nbconvert_exporter": "python",
   "pygments_lexer": "ipython3",
   "version": "3.9.1"
  }
 },
 "nbformat": 4,
 "nbformat_minor": 2
}
