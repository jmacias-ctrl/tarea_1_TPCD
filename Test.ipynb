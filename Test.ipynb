{
 "cells": [
  {
   "attachments": {},
   "cell_type": "markdown",
   "metadata": {},
   "source": [
    "# **Programación con Python**"
   ]
  },
  {
   "attachments": {},
   "cell_type": "markdown",
   "metadata": {},
   "source": [
    "**Bienvenido**, este cuaderno de notas contiene los conceptos esenciales del lenguaje de programación Python. Aunque la información presentada pueda parecer básica, esta es fundamental para poder leer y escribir código en Python. "
   ]
  },
  {
   "cell_type": "markdown",
   "metadata": {},
   "source": [
    "## Tabla de Contenidos\n",
    "\n",
    "1.  [Primeros Pasos](#0)\n",
    "2.  [Tipos de Datos (Objetos)](#2)\n",
    "3.  [Expresiones y Variables](#4)\n",
    "4.  [Cadena de Caracteres (Strings)](#6)\n",
    "5.  [Indexación](#8)\n",
    "6.  [Secuencias de Escape](#10)\n",
    "7.  [Operaciones Sobre Cadena de Caracteres](#12)"
   ]
  },
  {
   "cell_type": "markdown",
   "metadata": {},
   "source": [
    "# 1. Primeros Pasos <a id=\"0\"></a>"
   ]
  },
  {
   "cell_type": "markdown",
   "metadata": {},
   "source": [
    "Cuando se aprende un nuevo lenguaje de programación, generalmente se comienza con un ejemplo de desplegar un mensaje de `Hola Mundo`. Realizar esto en Python es tan simple que sólo requiere una línea de código. Este primer paso permite conocer como imprimir una cadena de caracteres en la salida estándar y cómo ejecutar el código de una una celda de Python en Jupiter Notebook."
   ]
  },
  {
   "attachments": {},
   "cell_type": "markdown",
   "metadata": {},
   "source": [
    ">---\n",
    ">**Consejo**: Para ejecutar código de Python code en una celda hay que seleccionar la celda y presionar <kbd>Shift</kbd> + <kbd>Enter</kbd>.\n",
    ">\n",
    ">---"
   ]
  },
  {
   "attachments": {},
   "cell_type": "markdown",
   "metadata": {},
   "source": [
    "Lo primero que se va a realizar es utilizar la función `print()` a la que se le va a dar como argumento de entrada la cadena de caracteres `Hola Mundo con Python!`."
   ]
  },
  {
   "cell_type": "code",
   "execution_count": null,
   "metadata": {},
   "outputs": [],
   "source": [
    "# Salida en Python\n",
    "\n",
    "print('Hola Mundo con Python!')"
   ]
  },
  {
   "attachments": {},
   "cell_type": "markdown",
   "metadata": {},
   "source": [
    "## ¿Cómo saber que versión de Python se está utilizando?"
   ]
  },
  {
   "attachments": {},
   "cell_type": "markdown",
   "metadata": {},
   "source": [
    "Actualmente sólo se esta trabajando con la versión de Python 3. A partir del año 2022 la versión de Python 2 ya no se le va a dar más soporte ni continuidad,  por lo que se recomiendo no utilizarla.\n",
    "\n",
    "En un cuaderno de notas de Jupiter se puede observar la versión de Python en la esquina superior derecha.\n",
    "\n",
    "También se puede preguntar directamente a Python a través del atributo `.version` que se encuentra disponible en la biblioteca `sys`, la cual contiene varios atributos y métodos asociados al sistema operativo o plataforma de desarrollo. Para tener acceso a una biblioteca en Python se debe cargar utilizando em comando `import`."
   ]
  },
  {
   "cell_type": "code",
   "execution_count": null,
   "metadata": {},
   "outputs": [],
   "source": [
    "# Verificar la version de Python\n",
    "\n",
    "import sys\n",
    "print(sys.version)"
   ]
  },
  {
   "cell_type": "markdown",
   "metadata": {},
   "source": [
    "## Escribir comentarios en Python"
   ]
  },
  {
   "cell_type": "markdown",
   "metadata": {},
   "source": [
    "Además de escribir el código de la aplicación, siempre es una buena idea agregar comentarios al código. Esto ayuda a otros y a uno mismo a comprender la razón por la que escribió un fragmento de código determinado.\n",
    "\n",
    "Para escribir comentarios en Python, se utiliza el símbolo de número `#` antes de escribir el comentario. Cuando se ejecuta el código, Python ignorará todo lo que esté más allá del  `#` en una línea determinada."
   ]
  },
  {
   "cell_type": "code",
   "execution_count": null,
   "metadata": {},
   "outputs": [],
   "source": [
    "# Escribir un comentario\n",
    "\n",
    "print('Hola, Python!') # Esta línea imprime una cadena de caracteres\n",
    "# print('Hola')"
   ]
  },
  {
   "cell_type": "markdown",
   "metadata": {},
   "source": [
    "## Errores en Python"
   ]
  },
  {
   "attachments": {},
   "cell_type": "markdown",
   "metadata": {},
   "source": [
    "En el proceso de codificación siempre se puede cometer errores. Para muchos tipos de errores, Python dirá que ha cometido un error al desplegar un mensaje de error. Es importante leer los mensajes de error detenidamente para comprender realmente dónde se cometió un error y cómo se puede corregir.\n",
    "\n",
    "Por ejemplo, si se escribe el comando `print` como `frint`, Python mostrará un mensaje de error: `name 'frint' is not defined`."
   ]
  },
  {
   "cell_type": "code",
   "execution_count": null,
   "metadata": {},
   "outputs": [],
   "source": [
    "# Se imprime un mensaje de error\n",
    "\n",
    "frint(\"Hola, Python!\")"
   ]
  },
  {
   "attachments": {},
   "cell_type": "markdown",
   "metadata": {},
   "source": [
    "El mensaje de error indica:\n",
    "- dónde ocurrió el error (esto es útil en códigos que son extensos), y\n",
    "- qué tipo de error fue (NameError)\n",
    "\n",
    "Aquí, Python intentó ejecutar la función `frint`, pero no pudo determinar qué es `frint` ya que no es una función integrada y tampoco ha sido definida previamente en el código.\n",
    "\n",
    "Si se comete un tipo diferente de error, al olvidar cerrar la cadena, se genera un error diferente, es decir, un `SyntaxError`."
   ]
  },
  {
   "cell_type": "code",
   "execution_count": null,
   "metadata": {},
   "outputs": [],
   "source": [
    "# Se imprime otro mensaje de error\n",
    "\n",
    "print(\"Hola, Python!)"
   ]
  },
  {
   "cell_type": "markdown",
   "metadata": {},
   "source": [
    "## ¿Python sabe acerca de su error antes de ejecutar su código?\n"
   ]
  },
  {
   "attachments": {},
   "cell_type": "markdown",
   "metadata": {},
   "source": [
    "Python es lo que se llama un *lenguaje interpretado*. Los lenguajes compilados examinan todo su programa en el momento de la compilación y pueden advertirle sobre toda una clase de errores antes de la ejecución. Por el contrario, Python interpreta su código línea por línea a medida que lo ejecuta. Python dejará de ejecutar todo el resto del código cuando encuentre un error (a menos que el programador espere y maneje el error, un tema más avanzado que se podrá ver más adelante)."
   ]
  },
  {
   "cell_type": "markdown",
   "metadata": {},
   "source": [
    "Ejecutar el código en la celda de a continuación y ver qué sucede."
   ]
  },
  {
   "cell_type": "code",
   "execution_count": null,
   "metadata": {},
   "outputs": [],
   "source": [
    "# Imprime una serie de cadenas para ver el orden de ejecución y error\n",
    "\n",
    "print(\"Esta línea se imprime\")\n",
    "frint(\"Esta linea causa un error\")\n",
    "print(\"Esta línea NO será impresa\")"
   ]
  },
  {
   "cell_type": "markdown",
   "metadata": {},
   "source": [
    "# 2. Tipos de Datos (Objetos) <a id=\"2\"></a>"
   ]
  },
  {
   "cell_type": "markdown",
   "metadata": {},
   "source": [
    "Python es un lenguaje orientado a objetos. Hay muchos tipos diferentes de objetos en Python. Los tipos de objetos más comunes son: *cadenas de caracteres o strings*, *números enteros* y *números reales o flotantes*. Cada vez que escribe alguna palabra o texto en Python se está utilizando *cadenas de caracteres*. Los números más comunes, por otro lado, son los números *enteros* (por ejemplo, -1, 0, 100) y los *flotantes*, que representan números reales (por ejemplo, 3,14, -42,0)."
   ]
  },
  {
   "cell_type": "markdown",
   "metadata": {},
   "source": [
    "Las siguientes celdas de código contienen algunos ejemplos."
   ]
  },
  {
   "cell_type": "code",
   "execution_count": null,
   "metadata": {},
   "outputs": [],
   "source": [
    "# Entero\n",
    "\n",
    "11"
   ]
  },
  {
   "cell_type": "code",
   "execution_count": null,
   "metadata": {},
   "outputs": [],
   "source": [
    "# Flotante\n",
    "\n",
    "2.14"
   ]
  },
  {
   "cell_type": "code",
   "execution_count": null,
   "metadata": {},
   "outputs": [],
   "source": [
    "# Cadena de caracteres\n",
    "\n",
    "\"Hola Mundo con Python!\""
   ]
  },
  {
   "attachments": {},
   "cell_type": "markdown",
   "metadata": {},
   "source": [
    "Se puede hacer que Python indique el tipo de una expresión o variable usando la función integrada `type()`. Nótese que Python se refiere a los números enteros como `int`, a los flotantes como `float` y a las cadenas de caracteres como `str`."
   ]
  },
  {
   "cell_type": "code",
   "execution_count": null,
   "metadata": {},
   "outputs": [],
   "source": [
    "# Tipo de 12\n",
    "\n",
    "type(12)"
   ]
  },
  {
   "cell_type": "code",
   "execution_count": null,
   "metadata": {},
   "outputs": [],
   "source": [
    "# Tipo de 2.14\n",
    "\n",
    "type(2.14)"
   ]
  },
  {
   "cell_type": "code",
   "execution_count": null,
   "metadata": {},
   "outputs": [],
   "source": [
    "# Tipo de \"Hola Mundo con Python!\"\n",
    "\n",
    "type(\"Hola Mundo con Python!\")"
   ]
  },
  {
   "cell_type": "markdown",
   "metadata": {},
   "source": [
    "## Enteros"
   ]
  },
  {
   "cell_type": "markdown",
   "metadata": {},
   "source": [
    "Se presentan algunos ejemplos de números enteros. Los números enteros pueden ser números negativos o positivos.\n",
    "\n",
    "|1|2|3|4|5|6|7|8|9|\n",
    "|---|---|---|---|---|---|---|---|---|\n",
    "|-4|-3|-2|-1|0|1|2|3|4|"
   ]
  },
  {
   "cell_type": "markdown",
   "metadata": {},
   "source": [
    "Se puede verificar el tipo de un objeto usando la función `type()`."
   ]
  },
  {
   "cell_type": "code",
   "execution_count": null,
   "metadata": {},
   "outputs": [],
   "source": [
    "# Imprime el tipo de -1\n",
    "\n",
    "type(-1)"
   ]
  },
  {
   "cell_type": "code",
   "execution_count": null,
   "metadata": {},
   "outputs": [],
   "source": [
    "# Imprime el tipo de 4\n",
    "\n",
    "type(4)"
   ]
  },
  {
   "cell_type": "code",
   "execution_count": null,
   "metadata": {},
   "outputs": [],
   "source": [
    "# Imprime el tipo de 0\n",
    "\n",
    "type(0)"
   ]
  },
  {
   "cell_type": "markdown",
   "metadata": {},
   "source": [
    "## Flotantes"
   ]
  },
  {
   "attachments": {},
   "cell_type": "markdown",
   "metadata": {},
   "source": [
    "Los tipos flotantes representan números reales; son un superconjunto de números enteros que también incluyen *números con decimales*. Existen algunas limitaciones cuando se trata de representar números reales en una computadora, sin embargo, los números de punto flotante son una buena representación en la mayoría de los casos. Se puede obtener más información sobre las especificaciones de los elementos flotantes para el entorno de ejecución comprobando el valor de `sys.float_info`. Esto también dirá cuál es el número más grande y más pequeño que se puede representar con ellos.\n",
    "\n",
    "A continuación se puede probar algunos ejemplos con la función `type()`."
   ]
  },
  {
   "cell_type": "code",
   "execution_count": null,
   "metadata": {},
   "outputs": [],
   "source": [
    "# Imprime el tipo de 1.0\n",
    "\n",
    "type(1.0) # Notar que 1 es un entero, y 1.0 es un flotante"
   ]
  },
  {
   "cell_type": "code",
   "execution_count": null,
   "metadata": {},
   "outputs": [],
   "source": [
    "# Imprime el tipo de 0.5\n",
    "\n",
    "type(0.5)"
   ]
  },
  {
   "cell_type": "code",
   "execution_count": null,
   "metadata": {},
   "outputs": [],
   "source": [
    "# Imprime el tipo de 0.56\n",
    "\n",
    "type(0.56)"
   ]
  },
  {
   "cell_type": "code",
   "execution_count": null,
   "metadata": {},
   "outputs": [],
   "source": [
    "# Configuración del sistema para los números del tipo flotante\n",
    "\n",
    "sys.float_info"
   ]
  },
  {
   "cell_type": "markdown",
   "metadata": {},
   "source": [
    "## Conversión de un tipo de objeto a un tipo de objeto diferente"
   ]
  },
  {
   "cell_type": "markdown",
   "metadata": {},
   "source": [
    "En Python se puede cambiar el tipo del objeto, expresión o variable; esto se llama conversión de tipo (typecasting, en inglés). Por ejemplo, se puede convertir un número *entero* en uno *flotante* (por ejemplo, 2 a 2,0)."
   ]
  },
  {
   "cell_type": "code",
   "execution_count": null,
   "metadata": {},
   "outputs": [],
   "source": [
    "# Verificar que 2 sea un número entero\n",
    "\n",
    "type(2)"
   ]
  },
  {
   "cell_type": "markdown",
   "metadata": {},
   "source": [
    "### Convertir enteros en flotantes"
   ]
  },
  {
   "cell_type": "markdown",
   "metadata": {},
   "source": [
    "Convertir el entero 2 a flotante."
   ]
  },
  {
   "cell_type": "code",
   "execution_count": null,
   "metadata": {},
   "outputs": [],
   "source": [
    "# Convertir el entero 2 a un flotante\n",
    "\n",
    "float(2)"
   ]
  },
  {
   "cell_type": "code",
   "execution_count": null,
   "metadata": {},
   "outputs": [],
   "source": [
    "# Convertir el entero 2 en un flotante y verificar su tipo\n",
    "\n",
    "type(float(2))"
   ]
  },
  {
   "attachments": {},
   "cell_type": "markdown",
   "metadata": {},
   "source": [
    "Cuando se convierte un número entero en un flotante, en realidad no se cambia el valor (es decir, la mantisa) del número. Sin embargo, si se convierte un flotante en un entero, potencialmente se podría perder algo de información. Por ejemplo, si se convierte el flotante 1.1 en entero, se obtiene 1 y se pierde la información decimal (es decir, 0.1)."
   ]
  },
  {
   "cell_type": "code",
   "execution_count": null,
   "metadata": {},
   "outputs": [],
   "source": [
    "# La conversión de 1.1 a entero resulta en la pérdida de información\n",
    "\n",
    "int(1.1)"
   ]
  },
  {
   "cell_type": "markdown",
   "metadata": {},
   "source": [
    "### Conversión de cadenas de caracteres a enteros o flotantes"
   ]
  },
  {
   "attachments": {},
   "cell_type": "markdown",
   "metadata": {},
   "source": [
    "En algunas ocasiones se puede tener una cadena que contiene un número dentro de ella. Si este es el caso, se puede convertir esa cadena que representa un número en un entero usando `int()`"
   ]
  },
  {
   "cell_type": "code",
   "execution_count": null,
   "metadata": {},
   "outputs": [],
   "source": [
    "# Convertir una cadena de caracteres a un entero\n",
    "\n",
    "int('1')"
   ]
  },
  {
   "attachments": {},
   "cell_type": "markdown",
   "metadata": {},
   "source": [
    "Pero si intenta hacerlo con una cadena que no es una coincidencia perfecta para un número, se obtendrá un error. "
   ]
  },
  {
   "cell_type": "code",
   "execution_count": null,
   "metadata": {},
   "outputs": [],
   "source": [
    "# Convertir una cadena de caracteres a un entero con error\n",
    "\n",
    "int('1 or 2 people')"
   ]
  },
  {
   "cell_type": "markdown",
   "metadata": {},
   "source": [
    "También se puede convertir cadenas de caracteres que contengan números con coma o punto flotante en objetos *flotantes*."
   ]
  },
  {
   "cell_type": "code",
   "execution_count": null,
   "metadata": {},
   "outputs": [],
   "source": [
    "# Convertir una cadena de caracteres a un flotante\n",
    "\n",
    "float('1.2')"
   ]
  },
  {
   "cell_type": "markdown",
   "metadata": {},
   "source": [
    ">---\n",
    ">**Consejo**: Tenga en cuenta que las cadenas se pueden representar con comillas simples (`'1.2'`) o comillas dobles (`\"1.2\"`), pero no puede mezclar ambas (por ejemplo, `\"1.2'`).\n",
    ">\n",
    ">---"
   ]
  },
  {
   "cell_type": "markdown",
   "metadata": {},
   "source": [
    "### Convertir números en cadenas de caracteres"
   ]
  },
  {
   "cell_type": "markdown",
   "metadata": {},
   "source": [
    "Si se puede convertir cadenas de caracteres en números, también es posible convertir números en cadenas de caracteres."
   ]
  },
  {
   "cell_type": "code",
   "execution_count": null,
   "metadata": {},
   "outputs": [],
   "source": [
    "# Convertir un entero a cadena de caracteres\n",
    "\n",
    "str(1)"
   ]
  },
  {
   "cell_type": "markdown",
   "metadata": {},
   "source": [
    "También se puede convertir un número flotante en una cadena de caracteres."
   ]
  },
  {
   "cell_type": "code",
   "execution_count": null,
   "metadata": {},
   "outputs": [],
   "source": [
    "# Convertir un número flotante en una cadena de caracteres\n",
    "\n",
    "str(1.2)"
   ]
  },
  {
   "cell_type": "markdown",
   "metadata": {},
   "source": [
    "## Tipo de datos booleano"
   ]
  },
  {
   "attachments": {},
   "cell_type": "markdown",
   "metadata": {},
   "source": [
    "*Boolean* es otro tipo de datos importante en Python. Un objeto de tipo *Booleano* puede tomar uno de dos valores: `Verdadero` o `Falso`."
   ]
  },
  {
   "cell_type": "code",
   "execution_count": null,
   "metadata": {},
   "outputs": [],
   "source": [
    "# Valor verdadero\n",
    "\n",
    "True"
   ]
  },
  {
   "cell_type": "markdown",
   "metadata": {},
   "source": [
    "Notar que el valor `True` tiene una **T** mayúscula. Lo mismo es cierto para `False` (es decir, se debe usar la **F** mayúscula)."
   ]
  },
  {
   "cell_type": "code",
   "execution_count": null,
   "metadata": {},
   "outputs": [],
   "source": [
    "# Valor falso\n",
    "False"
   ]
  },
  {
   "attachments": {},
   "cell_type": "markdown",
   "metadata": {},
   "source": [
    "Cuando se pide a Python que muestre el tipo de un objeto booleano, mostrará `bool`, que significa *booleano*."
   ]
  },
  {
   "cell_type": "code",
   "execution_count": null,
   "metadata": {},
   "outputs": [],
   "source": [
    "# Tipo de True\n",
    "\n",
    "type(True)"
   ]
  },
  {
   "cell_type": "code",
   "execution_count": null,
   "metadata": {},
   "outputs": [],
   "source": [
    "# Tipo de False\n",
    "\n",
    "type(False)"
   ]
  },
  {
   "cell_type": "markdown",
   "metadata": {},
   "source": [
    "Se puede convertir objetos booleanos a otros tipos de datos. Si se convierte un valor booleano con un valor de 'Verdadero' en un número entero o flotante, se obtiene un uno. Si se convierte un valor booleano con un valor de `False` en un número entero o flotante, se obtiene un cero. De manera similar, si se convierte un 1 a un valor booleano, se obtiene un 'Verdadero'. Y si se convierte un 0 a un valor booleano, se obtiene un `Falso`."
   ]
  },
  {
   "cell_type": "code",
   "execution_count": null,
   "metadata": {},
   "outputs": [],
   "source": [
    "# Convertir True a entero\n",
    "\n",
    "int(True)"
   ]
  },
  {
   "cell_type": "code",
   "execution_count": null,
   "metadata": {},
   "outputs": [],
   "source": [
    "# Convertir 1 a booleano\n",
    "\n",
    "bool(1)"
   ]
  },
  {
   "cell_type": "code",
   "execution_count": null,
   "metadata": {},
   "outputs": [],
   "source": [
    "# Convertir 0 a booleano\n",
    "\n",
    "bool(0)"
   ]
  },
  {
   "cell_type": "code",
   "execution_count": null,
   "metadata": {},
   "outputs": [],
   "source": [
    "# Convertir True a flotante\n",
    "\n",
    "float(True)"
   ]
  },
  {
   "cell_type": "markdown",
   "metadata": {},
   "source": [
    "---"
   ]
  },
  {
   "cell_type": "markdown",
   "metadata": {},
   "source": [
    "**$\\bigstar$ Pregunta:** \n",
    "\n",
    "¿Cuál es el tipo de datos del resultado de `6/2`?"
   ]
  },
  {
   "cell_type": "code",
   "execution_count": null,
   "metadata": {},
   "outputs": [],
   "source": [
    "### Escriba su código a continuación y presione Shift+Enter para ejecutarlo\n",
    "\n"
   ]
  },
  {
   "cell_type": "markdown",
   "metadata": {},
   "source": [
    "Doble click **aquí** para ver la solución\n",
    "\n",
    "<!--\n",
    "\n",
    "#La respuesta correcta es:  \n",
    "\n",
    "type(6/2) # float\n",
    "\n",
    "-->   "
   ]
  },
  {
   "cell_type": "markdown",
   "metadata": {},
   "source": [
    "---"
   ]
  },
  {
   "cell_type": "markdown",
   "metadata": {},
   "source": [
    "**$\\bigstar$ Pregunta:** \n",
    "\n",
    "¿Cuál es el tipo de datos del resultado de `6//2`? (Observe la doble barra inclinada `//`.)"
   ]
  },
  {
   "cell_type": "code",
   "execution_count": null,
   "metadata": {},
   "outputs": [],
   "source": [
    "### Escriba su código a continuación y presione Shift+Enter para ejecutarlo\n"
   ]
  },
  {
   "cell_type": "markdown",
   "metadata": {},
   "source": [
    "Doble click **aquí** para ver la solución\n",
    "\n",
    "<!--\n",
    "\n",
    "#La respuesta correcta es:  \n",
    "\n",
    "type(6//2) # int, ya que las barras dobles representan la división entera \n",
    "\n",
    "-->   "
   ]
  },
  {
   "cell_type": "markdown",
   "metadata": {},
   "source": [
    "<hr>"
   ]
  },
  {
   "cell_type": "markdown",
   "metadata": {},
   "source": [
    "# 3. Expresiones y Variables <a id=\"4\"></a>"
   ]
  },
  {
   "cell_type": "markdown",
   "metadata": {},
   "source": [
    "## Expresiones"
   ]
  },
  {
   "cell_type": "markdown",
   "metadata": {},
   "source": [
    "Las expresiones en Python pueden incluir operaciones entre tipos compatibles (por ejemplo, enteros y flotantes). Un caso particular puede ser realizar operaciones aritméticas básicas como sumar varios números."
   ]
  },
  {
   "cell_type": "code",
   "execution_count": null,
   "metadata": {},
   "outputs": [],
   "source": [
    "# Expresión de operación de suma\n",
    "\n",
    "43 + 60 + 16 + 41"
   ]
  },
  {
   "cell_type": "markdown",
   "metadata": {},
   "source": [
    "Se puede realizar operaciones de resta usando el operador menos. En este caso el resultado es un número negativo."
   ]
  },
  {
   "cell_type": "code",
   "execution_count": null,
   "metadata": {},
   "outputs": [],
   "source": [
    "# Expresión de operación de resta\n",
    "\n",
    "50 - 60"
   ]
  },
  {
   "cell_type": "markdown",
   "metadata": {},
   "source": [
    "Se puede hacer la multiplicación usando un asterisco."
   ]
  },
  {
   "cell_type": "code",
   "execution_count": null,
   "metadata": {},
   "outputs": [],
   "source": [
    "# Expresión de la operación de multiplicación\n",
    "\n",
    "5 * 5"
   ]
  },
  {
   "cell_type": "markdown",
   "metadata": {},
   "source": [
    "También se puede realizar la división con la barra inclinada."
   ]
  },
  {
   "cell_type": "code",
   "execution_count": null,
   "metadata": {},
   "outputs": [],
   "source": [
    "# Expresión de operación de división\n",
    "\n",
    "25 / 5"
   ]
  },
  {
   "cell_type": "code",
   "execution_count": null,
   "metadata": {},
   "outputs": [],
   "source": [
    "# Expresión de operación de división\n",
    "\n",
    "25 / 6"
   ]
  },
  {
   "cell_type": "markdown",
   "metadata": {},
   "source": [
    "Como se observó anteriormente, se puede usar la barra doble para la división de enteros, donde el resultado se redondea al entero más cercano."
   ]
  },
  {
   "cell_type": "code",
   "execution_count": null,
   "metadata": {},
   "outputs": [],
   "source": [
    "# Expresión de operación de división entera\n",
    "\n",
    "25 // 5"
   ]
  },
  {
   "cell_type": "code",
   "execution_count": null,
   "metadata": {},
   "outputs": [],
   "source": [
    "# Expresión de operación de división entera\n",
    "\n",
    "25 //6"
   ]
  },
  {
   "cell_type": "markdown",
   "metadata": {},
   "source": [
    "---"
   ]
  },
  {
   "cell_type": "markdown",
   "metadata": {},
   "source": [
    "**$\\bigstar$ Pregunta:** \n",
    "\n",
    "Escribir una expresión que calcule cuántas horas hay en 160 minutos."
   ]
  },
  {
   "cell_type": "code",
   "execution_count": null,
   "metadata": {},
   "outputs": [],
   "source": [
    "### Escriba su código a continuación y presione Shift+Enter para ejecutarlo\n"
   ]
  },
  {
   "cell_type": "markdown",
   "metadata": {},
   "source": [
    "Doble click **aquí** para ver la solución\n",
    "\n",
    "<!--\n",
    "\n",
    "#La respuesta correcta es:  \n",
    "\n",
    "160/60 \n",
    "# ó\n",
    "160//60\n",
    "\n",
    "--> "
   ]
  },
  {
   "cell_type": "markdown",
   "metadata": {},
   "source": [
    "---"
   ]
  },
  {
   "cell_type": "markdown",
   "metadata": {},
   "source": [
    "Python sigue convenciones matemáticas bien aceptadas al evaluar expresiones matemáticas. En el siguiente ejemplo, Python suma 30 al resultado de la multiplicación (es decir, 120)."
   ]
  },
  {
   "cell_type": "code",
   "execution_count": null,
   "metadata": {},
   "outputs": [],
   "source": [
    "# Expresión matemática\n",
    "\n",
    "30 + 2 * 60"
   ]
  },
  {
   "cell_type": "markdown",
   "metadata": {},
   "source": [
    "Al igual que las matemáticas, las expresiones entre paréntesis tienen prioridad. Entonces lo siguiente multiplica 32 por 60."
   ]
  },
  {
   "cell_type": "code",
   "execution_count": null,
   "metadata": {},
   "outputs": [],
   "source": [
    "# Expresión matemática\n",
    "\n",
    "(30 + 2) * 60"
   ]
  },
  {
   "cell_type": "markdown",
   "metadata": {},
   "source": [
    "## Variables"
   ]
  },
  {
   "cell_type": "markdown",
   "metadata": {},
   "source": [
    "Al igual que con la mayoría de los lenguajes de programación, se puede almacenar valores en *variables*, para poder usarlos más adelante. Por ejemplo."
   ]
  },
  {
   "cell_type": "code",
   "execution_count": null,
   "metadata": {},
   "outputs": [],
   "source": [
    "# Almacenar valor en variable\n",
    "\n",
    "x = 43 + 60 + 16 + 41"
   ]
  },
  {
   "cell_type": "markdown",
   "metadata": {},
   "source": [
    "Para ver el valor de `x` en una celda de Jupiter Notebook, simplemente la variable se puede colocar en la última línea de una celda."
   ]
  },
  {
   "cell_type": "code",
   "execution_count": null,
   "metadata": {},
   "outputs": [],
   "source": [
    "# Imprime el valor en la variable\n",
    "\n",
    "x"
   ]
  },
  {
   "cell_type": "markdown",
   "metadata": {},
   "source": [
    "También se puede realizar operaciones con `x` y guardar el resultado en una nueva variable."
   ]
  },
  {
   "cell_type": "code",
   "execution_count": null,
   "metadata": {},
   "outputs": [],
   "source": [
    "# Usar otra variable para almacenar el resultado de la operación entre variable y valor\n",
    "\n",
    "y = x / 60\n",
    "y"
   ]
  },
  {
   "cell_type": "markdown",
   "metadata": {},
   "source": [
    "Si se guarda un valor en una variable existente, el nuevo valor sobrescribirá el valor anterior."
   ]
  },
  {
   "cell_type": "code",
   "execution_count": null,
   "metadata": {},
   "outputs": [],
   "source": [
    "# Sobrescribe variable con nuevo valor\n",
    "\n",
    "x = x / 60\n",
    "x"
   ]
  },
  {
   "cell_type": "markdown",
   "metadata": {},
   "source": [
    "Es una buena práctica usar nombres de variables significativos, para que uno y otras personas puedan leer el código y comprenderlo más fácilmente."
   ]
  },
  {
   "cell_type": "code",
   "execution_count": null,
   "metadata": {},
   "outputs": [],
   "source": [
    "# Nombre las variables significativo\n",
    "\n",
    "total_min = 43 + 42 + 57 # Duración total en minutos\n",
    "total_min"
   ]
  },
  {
   "cell_type": "code",
   "execution_count": null,
   "metadata": {},
   "outputs": [],
   "source": [
    "# Nombre las variables significativo\n",
    "\n",
    "total_horas = total_min / 60 # Duración total en horas\n",
    "total_horas"
   ]
  },
  {
   "cell_type": "markdown",
   "metadata": {},
   "source": [
    "En las celdas de arriba, se agregó la duración de tres elementos en minutos y se almacenó en `total_min`. Luego se dividió por 60 para calcular la longitud total `total_horas` en horas. También se puede hacer todo a la vez en una sola expresión, siempre que se use paréntesis para sumar los tiempo antes de dividir, como se muestra a continuación."
   ]
  },
  {
   "cell_type": "code",
   "execution_count": null,
   "metadata": {},
   "outputs": [],
   "source": [
    "# Expresión compleja\n",
    "\n",
    "total_horas = (43 + 42 + 57) / 60  # Horas totales en una sola expresión\n",
    "total_horas"
   ]
  },
  {
   "attachments": {},
   "cell_type": "markdown",
   "metadata": {},
   "source": [
    "Si se quiere tener el total de horas como un número entero, se puede reemplazar la división de punto flotante con una división de números enteros (es decir, `//`)."
   ]
  },
  {
   "cell_type": "markdown",
   "metadata": {},
   "source": [
    "---"
   ]
  },
  {
   "cell_type": "markdown",
   "metadata": {},
   "source": [
    "**$\\bigstar$ Pregunta:** \n",
    "\n",
    "¿Cuál es el valor de `x` donde `x = 3 + 2 * 2`?"
   ]
  },
  {
   "cell_type": "code",
   "execution_count": null,
   "metadata": {},
   "outputs": [],
   "source": [
    "### Escriba su código a continuación y presione Shift+Enter para ejecutarlo\n"
   ]
  },
  {
   "cell_type": "markdown",
   "metadata": {},
   "source": [
    "Doble click **aquí** para ver la solución\n",
    "\n",
    "<!--\n",
    "\n",
    "#La respuesta correcta es:  \n",
    "\n",
    "7\n",
    "\n",
    "--> "
   ]
  },
  {
   "cell_type": "markdown",
   "metadata": {},
   "source": [
    "---"
   ]
  },
  {
   "cell_type": "markdown",
   "metadata": {},
   "source": [
    "**$\\bigstar$ Pregunta:** \n",
    "\n",
    "¿Cuál es el valor de `y` donde `y = (3 + 2) * 2`?"
   ]
  },
  {
   "cell_type": "code",
   "execution_count": null,
   "metadata": {},
   "outputs": [],
   "source": [
    "### Escriba su código a continuación y presione Shift+Enter para ejecutarlo\n"
   ]
  },
  {
   "cell_type": "markdown",
   "metadata": {},
   "source": [
    "Doble click **aquí** para ver la solución\n",
    "\n",
    "<!--\n",
    "\n",
    "#La respuesta correcta es:  \n",
    "\n",
    "10\n",
    "\n",
    "--> "
   ]
  },
  {
   "cell_type": "markdown",
   "metadata": {},
   "source": [
    "---"
   ]
  },
  {
   "cell_type": "markdown",
   "metadata": {},
   "source": [
    "**$\\bigstar$ Pregunta:** \n",
    "\n",
    "¿Cuál es el valor de `z` donde `z = x + y`?\n"
   ]
  },
  {
   "cell_type": "code",
   "execution_count": null,
   "metadata": {},
   "outputs": [],
   "source": [
    "### Escriba su código a continuación y presione Shift+Enter para ejecutarlo\n"
   ]
  },
  {
   "cell_type": "markdown",
   "metadata": {},
   "source": [
    "Doble click **aquí** para ver la solución\n",
    "\n",
    "<!--\n",
    "\n",
    "#La respuesta correcta es:  \n",
    "\n",
    "17\n",
    "\n",
    "--> "
   ]
  },
  {
   "cell_type": "markdown",
   "metadata": {},
   "source": [
    "---"
   ]
  },
  {
   "cell_type": "markdown",
   "metadata": {},
   "source": [
    "# 4. Cadena de Caracteres (Strings) <a id=\"6\"></a>"
   ]
  },
  {
   "cell_type": "markdown",
   "metadata": {},
   "source": [
    "El siguiente ejemplo muestra una cadena contenida entre 2 comillas."
   ]
  },
  {
   "cell_type": "code",
   "execution_count": null,
   "metadata": {},
   "outputs": [],
   "source": [
    "# Usar comillas para definir la cadena\n",
    "\n",
    "\"Freddie Mercury\""
   ]
  },
  {
   "cell_type": "markdown",
   "metadata": {},
   "source": [
    "También se puede usar comillas simples."
   ]
  },
  {
   "cell_type": "code",
   "execution_count": null,
   "metadata": {},
   "outputs": [],
   "source": [
    "# Usar comillas simples para definir la cadena\n",
    "\n",
    "'Freddie Mercury'"
   ]
  },
  {
   "cell_type": "markdown",
   "metadata": {},
   "source": [
    "Una cadena de carac teres puede ser una combinación de espacios y dígitos."
   ]
  },
  {
   "cell_type": "code",
   "execution_count": null,
   "metadata": {},
   "outputs": [],
   "source": [
    "# Dígitos y espacios en cadena\n",
    "\n",
    "'1 2 3 4 5 6 '"
   ]
  },
  {
   "attachments": {},
   "cell_type": "markdown",
   "metadata": {},
   "source": [
    "Una cadena de caracteres también puede ser una combinación de caracteres especiales."
   ]
  },
  {
   "cell_type": "code",
   "execution_count": null,
   "metadata": {},
   "outputs": [],
   "source": [
    "# Caracteres especiales en una cadena de caracteres\n",
    "\n",
    "'@#2_#]&*^%$'"
   ]
  },
  {
   "cell_type": "markdown",
   "metadata": {},
   "source": [
    "Se puede imprimir una cadena de caracteres usando el comando de impresión `print()`."
   ]
  },
  {
   "cell_type": "code",
   "execution_count": null,
   "metadata": {},
   "outputs": [],
   "source": [
    "# Imprime una cadena de caracteres\n",
    "\n",
    "print(\"Hola Mundo!\")"
   ]
  },
  {
   "cell_type": "markdown",
   "metadata": {},
   "source": [
    "se puede vincular o asignar una cadena de caracteres a otra variable."
   ]
  },
  {
   "cell_type": "code",
   "execution_count": null,
   "metadata": {},
   "outputs": [],
   "source": [
    "# Asignar cadena de caracteres a una variable\n",
    "\n",
    "Nombre = \"Freddie Mercury\"\n",
    "Nombre"
   ]
  },
  {
   "cell_type": "markdown",
   "metadata": {},
   "source": [
    "# 5. Indexación <a id=\"8\"></a>"
   ]
  },
  {
   "cell_type": "markdown",
   "metadata": {},
   "source": [
    "Es útil pensar en una cadena de caracteres como una secuencia ordenada. Se puede acceder a cada elemento de la secuencia mediante un índice representado por el arreglo de números.\n",
    "\n",
    "```Python\n",
    "Nombre = \"Freddie Mercury\"\n",
    "```\n",
    "\n",
    "|0|1|2|3|4|5|6|7|8|9|10|11|12|13|14|\n",
    "|-|-|-|-|-|-|-|-|-|-|-|-|-|-|-|\n",
    "|F|r|e|d|d|i|e| |M|e|r|c|u|r|y|\n",
    "\n",
    "Se puede acceder al primer índice de la siguiente manera.\n",
    "\n",
    ">---\n",
    ">**Consejo**: Debido a que la indexación comienza en 0, esto significa que el primer índice está en el índice 0.\n",
    ">\n",
    ">---"
   ]
  },
  {
   "cell_type": "code",
   "execution_count": null,
   "metadata": {},
   "outputs": [],
   "source": [
    "# Imprime el primer elemento de la cadena de caracteres\n",
    "# .\n",
    "print(Nombre[0])"
   ]
  },
  {
   "cell_type": "markdown",
   "metadata": {},
   "source": [
    "Se puede acceder al índice 6 y al indice 13."
   ]
  },
  {
   "cell_type": "code",
   "execution_count": null,
   "metadata": {},
   "outputs": [],
   "source": [
    "# Imprime el elemento en el índice 6 y 13 en la cadena de caracteres\n",
    "\n",
    "print(Nombre[6])\n",
    "print(Nombre[13])"
   ]
  },
  {
   "cell_type": "markdown",
   "metadata": {},
   "source": [
    "## Indexación negativa"
   ]
  },
  {
   "cell_type": "markdown",
   "metadata": {},
   "source": [
    "También se puede usar la indexación negativa con cadenas de caracteres.\n",
    "\n",
    "\n",
    "```Python\n",
    "Nombre = \"Freddie Mercury\"\n",
    "```\n",
    "\n",
    "|-15|-14|-13|-12|-11|-10|-9|-8|-7|-6|-5|-4|-3|-2|-1|\n",
    "|-|-|-|-|-|-|-|-|-|-|-|-|-|-|-|\n",
    "|F|r|e|d|d|i|e| |M|e|r|c|u|r|y|\n",
    "\n",
    "El índice negativo puede ayudar a contar el elemento desde el final de la cadena.Así, el último elemento viene dado por el índice -1."
   ]
  },
  {
   "cell_type": "code",
   "execution_count": null,
   "metadata": {},
   "outputs": [],
   "source": [
    "# Imprime el último elemento de la cadena de caracteres\n",
    "\n",
    "print(Nombre[-1])"
   ]
  },
  {
   "cell_type": "markdown",
   "metadata": {},
   "source": [
    "El primer elemento se puede obtener por el índice -15."
   ]
  },
  {
   "cell_type": "code",
   "execution_count": null,
   "metadata": {},
   "outputs": [],
   "source": [
    "# Imprime el primer elemento de la cadena de caracteres\n",
    "print(Nombre[-15])"
   ]
  },
  {
   "cell_type": "markdown",
   "metadata": {},
   "source": [
    "Se puede encontrar el número de caracteres en una cadena usando el método `len()`, abreviatura de longitud o largo en inglés."
   ]
  },
  {
   "cell_type": "code",
   "execution_count": null,
   "metadata": {},
   "outputs": [],
   "source": [
    "# Encuentra la longitud de la cadena de caracteres\n",
    "\n",
    "len(\"Freddie Mercury\")"
   ]
  },
  {
   "cell_type": "markdown",
   "metadata": {},
   "source": [
    "## Rebanar (Slicing)"
   ]
  },
  {
   "cell_type": "markdown",
   "metadata": {},
   "source": [
    "Se puede obtener varios caracteres de una cadena utilizando el operador de rebanado o corte, por ejemplo, se puede obtener los elementos del 0 al 4 y del 8 al 12.\n",
    "\n",
    "```Python\n",
    "Nombre = \"Freddie Mercury\"\n",
    "```\n",
    "\n",
    "|0|1|2|3|4|5|6|7|8|9|10|11|12|13|14|\n",
    "|-|-|-|-|-|-|-|-|-|-|-|-|-|-|-|\n",
    "|F|r|e|d|d|i|e| |M|e|r|c|u|r|y|\n",
    "\n",
    "\n",
    "```Python\n",
    "Nombre[0:4] => Fred\n",
    "Nombre[8:12] => Merc\n",
    "```\n",
    " \n",
    ">---\n",
    ">**Consejo**: Al realizar el rebanado, el primer número significa el índice donde comienza el rebanado, y el segundo número significa el índice posterior al elemento que se desea (índice final = segundo número - 1).\n",
    ">\n",
    ">---\n"
   ]
  },
  {
   "cell_type": "code",
   "execution_count": null,
   "metadata": {},
   "outputs": [],
   "source": [
    "# Recupera la rebanada de la variable Nombre entre el índice 0 al índice 3\n",
    "\n",
    "Nombre[0:4]"
   ]
  },
  {
   "cell_type": "code",
   "execution_count": null,
   "metadata": {},
   "outputs": [],
   "source": [
    "# Recupera la rebanada de la variable Nombre entre el índice 8 al índice 11\n",
    "\n",
    "Nombre[8:12]"
   ]
  },
  {
   "cell_type": "markdown",
   "metadata": {},
   "source": [
    "## Zancada o Tranco (Stride)"
   ]
  },
  {
   "cell_type": "markdown",
   "metadata": {},
   "source": [
    "También Se puede ingresar un valor de zancada de la siguiente manera, con el `2` se indica que se está seleccionando cada dos variables.\n",
    "\n",
    "```Python\n",
    "Nombre = \"Freddie Mercury\"\n",
    "```\n",
    "\n",
    "|0|1|2|3|4|5|6|7|8|9|10|11|12|13|14|\n",
    "|-|-|-|-|-|-|-|-|-|-|-|-|-|-|-|\n",
    "|`F`|r|`e`|d|`d`|i|`e`| |`M`|e|`r`|c|`u`|r|`y`|\n",
    "\n",
    "\n",
    "```Python\n",
    "Nombre[::2] => FedeMruy\n",
    "```\n",
    " "
   ]
  },
  {
   "cell_type": "code",
   "execution_count": null,
   "metadata": {},
   "outputs": [],
   "source": [
    "# Recupera cada dos elementos. Los elementos en el índice 0, 2, 4 ...\n",
    "\n",
    "Nombre[::2]"
   ]
  },
  {
   "attachments": {},
   "cell_type": "markdown",
   "metadata": {},
   "source": [
    "También se puede integrar el operador de rebanar con el de zancada. En este caso, se seleccionan los primeros cinco elementos y luego se define una zancada cada dos elementos."
   ]
  },
  {
   "cell_type": "code",
   "execution_count": null,
   "metadata": {},
   "outputs": [],
   "source": [
    "# Recupera cada dos elementos en el rengo de los índices 0 a 4.\n",
    "\n",
    "Nombre[0:5:2]"
   ]
  },
  {
   "cell_type": "markdown",
   "metadata": {},
   "source": [
    "## Concatenar cadenas de caracteres"
   ]
  },
  {
   "cell_type": "markdown",
   "metadata": {},
   "source": [
    "Se puede concatenar o combinar cadenas usando los símbolos de suma, y el resultado es una nueva cadena que es una combinación de ambas."
   ]
  },
  {
   "cell_type": "code",
   "execution_count": null,
   "metadata": {},
   "outputs": [],
   "source": [
    "# Concatena dos cadenas de caracteres\n",
    "\n",
    "Sentencia = Nombre + \" es el mejor\"\n",
    "Sentencia"
   ]
  },
  {
   "cell_type": "markdown",
   "metadata": {},
   "source": [
    "Para replicar valores de una cadena simplemente se multiplica la cadena por el número de veces que nos gustaría replicarla. En este caso, el número es tres. El resultado es una nueva cadena, y esta nueva cadena consta de tres copias de la cadena original."
   ]
  },
  {
   "cell_type": "code",
   "execution_count": null,
   "metadata": {},
   "outputs": [],
   "source": [
    "# Imprime la cadena 3 veces\n",
    "\n",
    "3 * \"Freddie Mercury\""
   ]
  },
  {
   "cell_type": "markdown",
   "metadata": {},
   "source": [
    "Se puede crear una nueva cadena agregandole elementos en la variable original, es decir, se concatena con una nueva cadena."
   ]
  },
  {
   "cell_type": "code",
   "execution_count": null,
   "metadata": {},
   "outputs": [],
   "source": [
    "# Concatenar cadenas\n",
    "\n",
    "Nombre = \"Freddie Mercury\"\n",
    "Nombre = Nombre + \" es el mejor\"\n",
    "Nombre"
   ]
  },
  {
   "cell_type": "markdown",
   "metadata": {},
   "source": [
    "# 6. Secuencias de Escape <a id=\"10\"></a>"
   ]
  },
  {
   "cell_type": "markdown",
   "metadata": {},
   "source": [
    "Las barras invertidas representan el comienzo de las secuencias de escape. Las secuencias de escape representan cadenas que pueden ser difíciles de ingresar. Por ejemplo, la barra invertida con una *n* (`\\n`) representa una nueva línea. La salida viene dada por una nueva línea después de encontrar la barra invertida *n*."
   ]
  },
  {
   "cell_type": "code",
   "execution_count": null,
   "metadata": {},
   "outputs": [],
   "source": [
    "# Secuencia de escape de una nueva línea\n",
    "\n",
    "print(\" Freddie Mercury \\n es el mejor\")"
   ]
  },
  {
   "cell_type": "markdown",
   "metadata": {},
   "source": [
    "Del mismo modo, la barra invertida con una *t* representa un tabulador."
   ]
  },
  {
   "cell_type": "code",
   "execution_count": null,
   "metadata": {},
   "outputs": [],
   "source": [
    "# Secuencia de escape para un tabulador\n",
    "\n",
    "print(\" Freddie Mercury \\t es el mejor\")"
   ]
  },
  {
   "cell_type": "markdown",
   "metadata": {},
   "source": [
    "Si se desea colocar una barra diagonal inversa en su cadena, se debe usar una barra diagonal inversa doble."
   ]
  },
  {
   "cell_type": "code",
   "execution_count": null,
   "metadata": {},
   "outputs": [],
   "source": [
    "# Secuencia de escape para incluir una barra inversa\n",
    "\n",
    "print(\" Freddie Mercury \\\\ es el mejor\")"
   ]
  },
  {
   "cell_type": "markdown",
   "metadata": {},
   "source": [
    "También se puede colocar una *r* antes de la cadena para mostrar la barra invertida."
   ]
  },
  {
   "cell_type": "code",
   "execution_count": null,
   "metadata": {},
   "outputs": [],
   "source": [
    "# r le dirá a python que la cadena se mostrará como una cadena sin procesar\n",
    "\n",
    "print(r\" Freddie Mercury \\ es el mejor\")"
   ]
  },
  {
   "cell_type": "markdown",
   "metadata": {},
   "source": [
    "# 7. Operaciones Sobre Cadenas <a id=\"12\"></a>"
   ]
  },
  {
   "cell_type": "markdown",
   "metadata": {},
   "source": [
    "Hay muchos métodos de operación de cadenas en Python que se pueden usar para manipular los datos. A continuación se van a usar algunas operaciones básicas de cadenas en los datos.\n",
    "\n",
    "Se probará con el método `.upper()`; este método convierte caracteres de minúsculas a caracteres en mayúsculas."
   ]
  },
  {
   "cell_type": "code",
   "execution_count": null,
   "metadata": {},
   "outputs": [],
   "source": [
    "# Convierte todos los caracteres a mayúsculas\n",
    "\n",
    "A = \"News of the World es el sexto álbum de estudio de Queen\"\n",
    "print(\"Antes   de upper:\", A)\n",
    "B = A.upper()\n",
    "print(\"Después de upper:\", B)"
   ]
  },
  {
   "cell_type": "markdown",
   "metadata": {},
   "source": [
    "El método `.replace()` reemplaza un segmento de la cadena, es decir, una subcadena con una nueva cadena. En el primer argumento se ingresa el segmento de la cadena que se quiere cambiar. El segundo argumento es con lo que se quiere intercambiar el segmento, y el resultado es una nueva cadena con el segmento cambiado."
   ]
  },
  {
   "cell_type": "code",
   "execution_count": null,
   "metadata": {},
   "outputs": [],
   "source": [
    "# Reemplaza la subcadena anterior con la nueva subcadena de destino \n",
    "# si el segmento es encontrado en la cadena\n",
    "\n",
    "B = A.replace('News of the World', 'Noticias del Mundo')\n",
    "B\n"
   ]
  },
  {
   "cell_type": "markdown",
   "metadata": {},
   "source": [
    "El método `.find()` encuentra una subcadena. El argumento es la subcadena que le gustaría encontrar y la salida es el primer índice de la secuencia. Por ejemplo se puede buscar la subcadena `Mer`.\n",
    "\n",
    "```Python\n",
    "Nombre = \"Freddie Mercury\"\n",
    "```\n",
    "\n",
    "|0|1|2|3|4|5|6|7|8|9|10|11|12|13|14|\n",
    "|-|-|-|-|-|-|-|-|-|-|-|-|-|-|-|\n",
    "|F|r|e|d|d|i|e| |`M`|`e`|`r`|c|u|r|y|"
   ]
  },
  {
   "cell_type": "code",
   "execution_count": null,
   "metadata": {},
   "outputs": [],
   "source": [
    "# Encontrar la subcadena en la cadena. \n",
    "# La salida será solo el índice del primer elemento de la subcadena en la cadena\n",
    "\n",
    "Nombre = \"Freddie Mercury\"\n",
    "Nombre.find('Mer')"
   ]
  },
  {
   "cell_type": "code",
   "execution_count": null,
   "metadata": {},
   "outputs": [],
   "source": [
    "# Encontrar la subcadena en la cadena.\n",
    "\n",
    "Nombre.find('ddie')"
   ]
  },
  {
   "cell_type": "markdown",
   "metadata": {},
   "source": [
    "Si la subcadena no está en la cadena, la salida es negativa. Por ejemplo, la cadena 'Jasdfasdasdf' no es una subcadena."
   ]
  },
  {
   "cell_type": "code",
   "execution_count": null,
   "metadata": {},
   "outputs": [],
   "source": [
    "# Si no puede encontrar la subcadena en la cadena\n",
    "\n",
    "Nombre.find('Jasdfasdasdf')"
   ]
  },
  {
   "cell_type": "markdown",
   "metadata": {},
   "source": [
    "---"
   ]
  },
  {
   "cell_type": "markdown",
   "metadata": {},
   "source": [
    "**$\\bigstar$ Pregunta:** \n",
    "\n",
    "¿Cuál es el valor de la variable `A` después de ejecutar el siguiente código?\n",
    "\n",
    "```Python\n",
    "A = \"1\"\n",
    "A"
   ]
  },
  {
   "cell_type": "code",
   "execution_count": null,
   "metadata": {},
   "outputs": [],
   "source": [
    "### Escriba su código a continuación y presione Shift+Enter para ejecutarlo\n"
   ]
  },
  {
   "cell_type": "markdown",
   "metadata": {},
   "source": [
    "Doble click **aquí** para ver la solución\n",
    "\n",
    "<!--\n",
    "\n",
    "#La respuesta correcta es:  \n",
    "\n",
    "'1'\n",
    "\n",
    "--> "
   ]
  },
  {
   "cell_type": "markdown",
   "metadata": {},
   "source": [
    "---"
   ]
  },
  {
   "cell_type": "markdown",
   "metadata": {},
   "source": [
    "**$\\bigstar$ Pregunta:** \n",
    "\n",
    "¿Cuál es el valor de la variable `B` después de ejecutar el siguiente código?\n",
    "\n",
    "```Python\n",
    "B = \"2\"\n",
    "B"
   ]
  },
  {
   "cell_type": "code",
   "execution_count": null,
   "metadata": {},
   "outputs": [],
   "source": [
    "### Escriba su código a continuación y presione Shift+Enter para ejecutarlo\n"
   ]
  },
  {
   "cell_type": "markdown",
   "metadata": {},
   "source": [
    "Doble click **aquí** para ver la solución\n",
    "\n",
    "<!--\n",
    "\n",
    "#La respuesta correcta es:  \n",
    "\n",
    "'2'\n",
    "\n",
    "--> "
   ]
  },
  {
   "cell_type": "markdown",
   "metadata": {},
   "source": [
    "---"
   ]
  },
  {
   "cell_type": "markdown",
   "metadata": {},
   "source": [
    "**$\\bigstar$ Pregunta:** \n",
    "\n",
    "¿Cuál es el valor de la variable `C` después de ejecutar el siguiente código?\n",
    "\n",
    "```Python\n",
    "C = A + B\n",
    "C"
   ]
  },
  {
   "cell_type": "code",
   "execution_count": null,
   "metadata": {},
   "outputs": [],
   "source": [
    "### Escriba su código a continuación y presione Shift+Enter para ejecutarlo\n"
   ]
  },
  {
   "cell_type": "markdown",
   "metadata": {},
   "source": [
    "Doble click **aquí** para ver la solución\n",
    "\n",
    "<!--\n",
    "\n",
    "#La respuesta correcta es:  \n",
    "\n",
    "'12'\n",
    "\n",
    "--> "
   ]
  },
  {
   "cell_type": "markdown",
   "metadata": {},
   "source": [
    "---"
   ]
  },
  {
   "cell_type": "markdown",
   "metadata": {},
   "source": [
    "**$\\bigstar$ Pregunta:** \n",
    "\n",
    "Considere la variable 'D', use el rebanado para imprimir los primeros tres elementos.\n",
    "\n",
    "```Python\n",
    "D = \"ABCDEFG\""
   ]
  },
  {
   "cell_type": "code",
   "execution_count": null,
   "metadata": {},
   "outputs": [],
   "source": [
    "### Escriba su código a continuación y presione Shift+Enter para ejecutarlo\n"
   ]
  },
  {
   "cell_type": "markdown",
   "metadata": {},
   "source": [
    "Doble click **aquí** para ver la solución\n",
    "\n",
    "<!--\n",
    "\n",
    "#La respuesta correcta es:  \n",
    "\n",
    "D = \"ABCDEFG\"\n",
    "print(D[:3]) \n",
    "# o \n",
    "print(D[0:3])\n",
    "\n",
    "--> "
   ]
  },
  {
   "cell_type": "markdown",
   "metadata": {},
   "source": [
    "---"
   ]
  },
  {
   "cell_type": "markdown",
   "metadata": {},
   "source": [
    "**$\\bigstar$ Pregunta:** \n",
    "\n",
    "Utilice un valor de zancada de 2 para imprimir cada segundo carácter de la cadena `E`.\n",
    "\n",
    "```Python\n",
    "E = 'clocrkr1e1c1t'"
   ]
  },
  {
   "cell_type": "code",
   "execution_count": null,
   "metadata": {},
   "outputs": [],
   "source": [
    "### Escriba su código a continuación y presione Shift+Enter para ejecutarlo\n"
   ]
  },
  {
   "cell_type": "markdown",
   "metadata": {},
   "source": [
    "Doble click **aquí** para ver la solución\n",
    "\n",
    "<!--\n",
    "\n",
    "#La respuesta correcta es:  \n",
    "\n",
    "E = 'clocrkr1e1c1t'\n",
    "print(E[::2])\n",
    "\n",
    "--> "
   ]
  },
  {
   "cell_type": "markdown",
   "metadata": {},
   "source": [
    "---"
   ]
  },
  {
   "cell_type": "markdown",
   "metadata": {},
   "source": [
    "**$\\bigstar$ Pregunta:** \n",
    "\n",
    "Convierta la variable `F` a minúsculas.\n",
    "\n",
    "```Python\n",
    "F = \"Tu Estas EQUIVOCADO\""
   ]
  },
  {
   "cell_type": "code",
   "execution_count": null,
   "metadata": {},
   "outputs": [],
   "source": [
    "### Escriba su código a continuación y presione Shift+Enter para ejecutarlo\n",
    "\n"
   ]
  },
  {
   "cell_type": "markdown",
   "metadata": {},
   "source": [
    "Doble click **aquí** para ver la solución\n",
    "\n",
    "<!--\n",
    "\n",
    "#La respuesta correcta es:  \n",
    "\n",
    "F = \"Tu Estas EQUIVOCADO\"\n",
    "F.lower()\n",
    "\n",
    "--> "
   ]
  },
  {
   "cell_type": "markdown",
   "metadata": {},
   "source": [
    "---"
   ]
  },
  {
   "attachments": {},
   "cell_type": "markdown",
   "metadata": {},
   "source": [
    "**$\\bigstar$ Pregunta:** \n",
    "\n",
    "En la variable `G`, encuentre el primer índice donde aparece la subcadena `corderito`."
   ]
  },
  {
   "cell_type": "code",
   "execution_count": null,
   "metadata": {},
   "outputs": [],
   "source": [
    "G = \"María tenía un corderito. Su velo era blanco como la nieve. \\\n",
    "Y dondequiera que María iba el corderito estaba seguro de ir ...\"\n",
    "\n",
    "### Escriba su código a continuación y presione Shift+Enter para ejecutarlo\n",
    "\n"
   ]
  },
  {
   "cell_type": "markdown",
   "metadata": {},
   "source": [
    "Doble click **aquí** para ver la solución\n",
    "\n",
    "<!--\n",
    "\n",
    "#La respuesta correcta es:  \n",
    "\n",
    "G.find('corderito')\n",
    "\n",
    "--> "
   ]
  },
  {
   "cell_type": "markdown",
   "metadata": {},
   "source": [
    "---"
   ]
  },
  {
   "cell_type": "markdown",
   "metadata": {},
   "source": [
    "**$\\bigstar$ Pregunta:** \n",
    "\n",
    "En la variable `G` reemplace la subcadena `María` con `José`."
   ]
  },
  {
   "cell_type": "code",
   "execution_count": null,
   "metadata": {},
   "outputs": [],
   "source": [
    "G = \"María tenía un corderito. Su velo era blanco como la nieve. \\\n",
    "Y dondequiera que María iba el corderito estaba seguro de ir ...\"\n",
    "\n",
    "### Escriba su código a continuación y presione Shift+Enter para ejecutarlo\n",
    "\n"
   ]
  },
  {
   "cell_type": "markdown",
   "metadata": {},
   "source": [
    "Doble click **aquí** para ver la solución\n",
    "\n",
    "<!--\n",
    "\n",
    "#La respuesta correcta es:  \n",
    "\n",
    "G.replace('María','José')\n",
    "\n",
    "--> "
   ]
  },
  {
   "attachments": {},
   "cell_type": "markdown",
   "metadata": {},
   "source": [
    "---"
   ]
  }
 ],
 "metadata": {
  "kernelspec": {
   "display_name": "Python 3.10.6 64-bit",
   "language": "python",
   "name": "python3"
  },
  "language_info": {
   "codemirror_mode": {
    "name": "ipython",
    "version": 3
   },
   "file_extension": ".py",
   "mimetype": "text/x-python",
   "name": "python",
   "nbconvert_exporter": "python",
   "pygments_lexer": "ipython3",
   "version": "3.10.6 (main, Nov 14 2022, 16:10:14) [GCC 11.3.0]"
  },
  "vscode": {
   "interpreter": {
    "hash": "e7370f93d1d0cde622a1f8e1c04877d8463912d04d973331ad4851f04de6915a"
   }
  }
 },
 "nbformat": 4,
 "nbformat_minor": 4
}
